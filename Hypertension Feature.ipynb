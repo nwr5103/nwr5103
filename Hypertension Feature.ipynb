{
 "cells": [
  {
   "cell_type": "markdown",
   "metadata": {},
   "source": [
    "## Medical Appointment no show prediction\n",
    "### By : Lisa McFadden, Lidia Soto, Natalie Rodriguez"
   ]
  },
  {
   "cell_type": "markdown",
   "metadata": {},
   "source": [
    "### Import libraries required for analysis and models"
   ]
  },
  {
   "cell_type": "code",
   "execution_count": 1,
   "metadata": {},
   "outputs": [],
   "source": [
    "import numpy as np\n",
    "import pandas as pd\n",
    "import seaborn as sns\n",
    "sns.set_palette('Set2')\n",
    "import matplotlib.pyplot as plt\n",
    "%matplotlib inline\n",
    "\n",
    "    \n",
    "from sklearn.model_selection import train_test_split\n",
    "from sklearn.linear_model import LogisticRegression\n",
    "\n",
    "import time\n",
    "import datetime as dt\n",
    "from datetime import datetime\n"
   ]
  },
  {
   "cell_type": "markdown",
   "metadata": {},
   "source": [
    "### Import data and look at your data content"
   ]
  },
  {
   "cell_type": "code",
   "execution_count": 2,
   "metadata": {
    "scrolled": true
   },
   "outputs": [
    {
     "data": {
      "text/html": [
       "<div>\n",
       "<style scoped>\n",
       "    .dataframe tbody tr th:only-of-type {\n",
       "        vertical-align: middle;\n",
       "    }\n",
       "\n",
       "    .dataframe tbody tr th {\n",
       "        vertical-align: top;\n",
       "    }\n",
       "\n",
       "    .dataframe thead th {\n",
       "        text-align: right;\n",
       "    }\n",
       "</style>\n",
       "<table border=\"1\" class=\"dataframe\">\n",
       "  <thead>\n",
       "    <tr style=\"text-align: right;\">\n",
       "      <th></th>\n",
       "      <th>Age</th>\n",
       "      <th>Gender</th>\n",
       "      <th>AppointmentRegistration</th>\n",
       "      <th>ApointmentData</th>\n",
       "      <th>DayOfTheWeek</th>\n",
       "      <th>Status</th>\n",
       "      <th>Diabetes</th>\n",
       "      <th>Alcoolism</th>\n",
       "      <th>HiperTension</th>\n",
       "      <th>Handcap</th>\n",
       "      <th>Smokes</th>\n",
       "      <th>Scholarship</th>\n",
       "      <th>Tuberculosis</th>\n",
       "      <th>Sms_Reminder</th>\n",
       "      <th>AwaitingTime</th>\n",
       "    </tr>\n",
       "  </thead>\n",
       "  <tbody>\n",
       "    <tr>\n",
       "      <th>0</th>\n",
       "      <td>19</td>\n",
       "      <td>M</td>\n",
       "      <td>2014-12-16T14:46:25Z</td>\n",
       "      <td>2015-01-14T00:00:00Z</td>\n",
       "      <td>Wednesday</td>\n",
       "      <td>Show-Up</td>\n",
       "      <td>0</td>\n",
       "      <td>0</td>\n",
       "      <td>0</td>\n",
       "      <td>0</td>\n",
       "      <td>0</td>\n",
       "      <td>0</td>\n",
       "      <td>0</td>\n",
       "      <td>0</td>\n",
       "      <td>-29</td>\n",
       "    </tr>\n",
       "    <tr>\n",
       "      <th>1</th>\n",
       "      <td>24</td>\n",
       "      <td>F</td>\n",
       "      <td>2015-08-18T07:01:26Z</td>\n",
       "      <td>2015-08-19T00:00:00Z</td>\n",
       "      <td>Wednesday</td>\n",
       "      <td>Show-Up</td>\n",
       "      <td>0</td>\n",
       "      <td>0</td>\n",
       "      <td>0</td>\n",
       "      <td>0</td>\n",
       "      <td>0</td>\n",
       "      <td>0</td>\n",
       "      <td>0</td>\n",
       "      <td>0</td>\n",
       "      <td>-1</td>\n",
       "    </tr>\n",
       "    <tr>\n",
       "      <th>2</th>\n",
       "      <td>4</td>\n",
       "      <td>F</td>\n",
       "      <td>2014-02-17T12:53:46Z</td>\n",
       "      <td>2014-02-18T00:00:00Z</td>\n",
       "      <td>Tuesday</td>\n",
       "      <td>Show-Up</td>\n",
       "      <td>0</td>\n",
       "      <td>0</td>\n",
       "      <td>0</td>\n",
       "      <td>0</td>\n",
       "      <td>0</td>\n",
       "      <td>0</td>\n",
       "      <td>0</td>\n",
       "      <td>0</td>\n",
       "      <td>-1</td>\n",
       "    </tr>\n",
       "    <tr>\n",
       "      <th>3</th>\n",
       "      <td>5</td>\n",
       "      <td>M</td>\n",
       "      <td>2014-07-23T17:02:11Z</td>\n",
       "      <td>2014-08-07T00:00:00Z</td>\n",
       "      <td>Thursday</td>\n",
       "      <td>Show-Up</td>\n",
       "      <td>0</td>\n",
       "      <td>0</td>\n",
       "      <td>0</td>\n",
       "      <td>0</td>\n",
       "      <td>0</td>\n",
       "      <td>0</td>\n",
       "      <td>0</td>\n",
       "      <td>1</td>\n",
       "      <td>-15</td>\n",
       "    </tr>\n",
       "    <tr>\n",
       "      <th>4</th>\n",
       "      <td>38</td>\n",
       "      <td>M</td>\n",
       "      <td>2015-10-21T15:20:09Z</td>\n",
       "      <td>2015-10-27T00:00:00Z</td>\n",
       "      <td>Tuesday</td>\n",
       "      <td>Show-Up</td>\n",
       "      <td>0</td>\n",
       "      <td>0</td>\n",
       "      <td>0</td>\n",
       "      <td>0</td>\n",
       "      <td>0</td>\n",
       "      <td>0</td>\n",
       "      <td>0</td>\n",
       "      <td>1</td>\n",
       "      <td>-6</td>\n",
       "    </tr>\n",
       "  </tbody>\n",
       "</table>\n",
       "</div>"
      ],
      "text/plain": [
       "   Age Gender AppointmentRegistration        ApointmentData DayOfTheWeek  \\\n",
       "0   19      M    2014-12-16T14:46:25Z  2015-01-14T00:00:00Z    Wednesday   \n",
       "1   24      F    2015-08-18T07:01:26Z  2015-08-19T00:00:00Z    Wednesday   \n",
       "2    4      F    2014-02-17T12:53:46Z  2014-02-18T00:00:00Z      Tuesday   \n",
       "3    5      M    2014-07-23T17:02:11Z  2014-08-07T00:00:00Z     Thursday   \n",
       "4   38      M    2015-10-21T15:20:09Z  2015-10-27T00:00:00Z      Tuesday   \n",
       "\n",
       "    Status  Diabetes  Alcoolism  HiperTension  Handcap  Smokes  Scholarship  \\\n",
       "0  Show-Up         0          0             0        0       0            0   \n",
       "1  Show-Up         0          0             0        0       0            0   \n",
       "2  Show-Up         0          0             0        0       0            0   \n",
       "3  Show-Up         0          0             0        0       0            0   \n",
       "4  Show-Up         0          0             0        0       0            0   \n",
       "\n",
       "   Tuberculosis  Sms_Reminder  AwaitingTime  \n",
       "0             0             0           -29  \n",
       "1             0             0            -1  \n",
       "2             0             0            -1  \n",
       "3             0             1           -15  \n",
       "4             0             1            -6  "
      ]
     },
     "execution_count": 2,
     "metadata": {},
     "output_type": "execute_result"
    }
   ],
   "source": [
    "data = pd.read_csv('No-show-Issue-Comma-300k.csv')\n",
    "data.head()"
   ]
  },
  {
   "cell_type": "markdown",
   "metadata": {},
   "source": [
    "### DATA PROCESSING\n"
   ]
  },
  {
   "cell_type": "markdown",
   "metadata": {},
   "source": [
    "### Renaming Columns\n",
    "#### From looking at the data head we can see some of the columns are spelled incorrectly the code below will fix this "
   ]
  },
  {
   "cell_type": "code",
   "execution_count": 3,
   "metadata": {},
   "outputs": [],
   "source": [
    "data.rename(columns = {'ApointmentData':'AppointmentData',\n",
    "                         'Alcoolism': 'Alchoholism',\n",
    "                         'HiperTension': 'Hypertension',\n",
    "                         'Handcap': 'Handicap'}, inplace = True)"
   ]
  },
  {
   "cell_type": "code",
   "execution_count": 4,
   "metadata": {},
   "outputs": [
    {
     "name": "stdout",
     "output_type": "stream",
     "text": [
      "Index(['Age', 'Gender', 'AppointmentRegistration', 'AppointmentData',\n",
      "       'DayOfTheWeek', 'Status', 'Diabetes', 'Alchoholism', 'Hypertension',\n",
      "       'Handicap', 'Smokes', 'Scholarship', 'Tuberculosis', 'Sms_Reminder',\n",
      "       'AwaitingTime'],\n",
      "      dtype='object')\n"
     ]
    }
   ],
   "source": [
    "print(data.columns)"
   ]
  },
  {
   "cell_type": "markdown",
   "metadata": {},
   "source": [
    "### Checking for Blanks"
   ]
  },
  {
   "cell_type": "code",
   "execution_count": 5,
   "metadata": {},
   "outputs": [
    {
     "data": {
      "text/plain": [
       "Age                        False\n",
       "Gender                     False\n",
       "AppointmentRegistration    False\n",
       "AppointmentData            False\n",
       "DayOfTheWeek               False\n",
       "Status                     False\n",
       "Diabetes                   False\n",
       "Alchoholism                False\n",
       "Hypertension               False\n",
       "Handicap                   False\n",
       "Smokes                     False\n",
       "Scholarship                False\n",
       "Tuberculosis               False\n",
       "Sms_Reminder               False\n",
       "AwaitingTime               False\n",
       "dtype: bool"
      ]
     },
     "execution_count": 5,
     "metadata": {},
     "output_type": "execute_result"
    }
   ],
   "source": [
    "data.isnull().any()"
   ]
  },
  {
   "cell_type": "markdown",
   "metadata": {},
   "source": [
    "### Converting the AppointmentRegistration and AppointmentData into a date and time format "
   ]
  },
  {
   "cell_type": "code",
   "execution_count": 6,
   "metadata": {},
   "outputs": [],
   "source": [
    "data['AppointmentRegistration'] = pd.to_datetime(data['AppointmentRegistration'])\n",
    "data['AppointmentData'] = pd.to_datetime(data['AppointmentData'])"
   ]
  },
  {
   "cell_type": "markdown",
   "metadata": {},
   "source": [
    "### Extract month from the appointments"
   ]
  },
  {
   "cell_type": "code",
   "execution_count": 7,
   "metadata": {},
   "outputs": [],
   "source": [
    "data['AppointmentMonths'] = data['AppointmentData'].apply(lambda x : dt.datetime.strftime(x, '%B'))"
   ]
  },
  {
   "cell_type": "code",
   "execution_count": 8,
   "metadata": {},
   "outputs": [
    {
     "data": {
      "text/html": [
       "<div>\n",
       "<style scoped>\n",
       "    .dataframe tbody tr th:only-of-type {\n",
       "        vertical-align: middle;\n",
       "    }\n",
       "\n",
       "    .dataframe tbody tr th {\n",
       "        vertical-align: top;\n",
       "    }\n",
       "\n",
       "    .dataframe thead th {\n",
       "        text-align: right;\n",
       "    }\n",
       "</style>\n",
       "<table border=\"1\" class=\"dataframe\">\n",
       "  <thead>\n",
       "    <tr style=\"text-align: right;\">\n",
       "      <th></th>\n",
       "      <th>Age</th>\n",
       "      <th>Gender</th>\n",
       "      <th>AppointmentRegistration</th>\n",
       "      <th>AppointmentData</th>\n",
       "      <th>DayOfTheWeek</th>\n",
       "      <th>Status</th>\n",
       "      <th>Diabetes</th>\n",
       "      <th>Alchoholism</th>\n",
       "      <th>Hypertension</th>\n",
       "      <th>Handicap</th>\n",
       "      <th>Smokes</th>\n",
       "      <th>Scholarship</th>\n",
       "      <th>Tuberculosis</th>\n",
       "      <th>Sms_Reminder</th>\n",
       "      <th>AwaitingTime</th>\n",
       "      <th>AppointmentMonths</th>\n",
       "    </tr>\n",
       "  </thead>\n",
       "  <tbody>\n",
       "    <tr>\n",
       "      <th>0</th>\n",
       "      <td>19</td>\n",
       "      <td>M</td>\n",
       "      <td>2014-12-16 14:46:25+00:00</td>\n",
       "      <td>2015-01-14 00:00:00+00:00</td>\n",
       "      <td>Wednesday</td>\n",
       "      <td>Show-Up</td>\n",
       "      <td>0</td>\n",
       "      <td>0</td>\n",
       "      <td>0</td>\n",
       "      <td>0</td>\n",
       "      <td>0</td>\n",
       "      <td>0</td>\n",
       "      <td>0</td>\n",
       "      <td>0</td>\n",
       "      <td>-29</td>\n",
       "      <td>January</td>\n",
       "    </tr>\n",
       "    <tr>\n",
       "      <th>1</th>\n",
       "      <td>24</td>\n",
       "      <td>F</td>\n",
       "      <td>2015-08-18 07:01:26+00:00</td>\n",
       "      <td>2015-08-19 00:00:00+00:00</td>\n",
       "      <td>Wednesday</td>\n",
       "      <td>Show-Up</td>\n",
       "      <td>0</td>\n",
       "      <td>0</td>\n",
       "      <td>0</td>\n",
       "      <td>0</td>\n",
       "      <td>0</td>\n",
       "      <td>0</td>\n",
       "      <td>0</td>\n",
       "      <td>0</td>\n",
       "      <td>-1</td>\n",
       "      <td>August</td>\n",
       "    </tr>\n",
       "    <tr>\n",
       "      <th>2</th>\n",
       "      <td>4</td>\n",
       "      <td>F</td>\n",
       "      <td>2014-02-17 12:53:46+00:00</td>\n",
       "      <td>2014-02-18 00:00:00+00:00</td>\n",
       "      <td>Tuesday</td>\n",
       "      <td>Show-Up</td>\n",
       "      <td>0</td>\n",
       "      <td>0</td>\n",
       "      <td>0</td>\n",
       "      <td>0</td>\n",
       "      <td>0</td>\n",
       "      <td>0</td>\n",
       "      <td>0</td>\n",
       "      <td>0</td>\n",
       "      <td>-1</td>\n",
       "      <td>February</td>\n",
       "    </tr>\n",
       "    <tr>\n",
       "      <th>3</th>\n",
       "      <td>5</td>\n",
       "      <td>M</td>\n",
       "      <td>2014-07-23 17:02:11+00:00</td>\n",
       "      <td>2014-08-07 00:00:00+00:00</td>\n",
       "      <td>Thursday</td>\n",
       "      <td>Show-Up</td>\n",
       "      <td>0</td>\n",
       "      <td>0</td>\n",
       "      <td>0</td>\n",
       "      <td>0</td>\n",
       "      <td>0</td>\n",
       "      <td>0</td>\n",
       "      <td>0</td>\n",
       "      <td>1</td>\n",
       "      <td>-15</td>\n",
       "      <td>August</td>\n",
       "    </tr>\n",
       "    <tr>\n",
       "      <th>4</th>\n",
       "      <td>38</td>\n",
       "      <td>M</td>\n",
       "      <td>2015-10-21 15:20:09+00:00</td>\n",
       "      <td>2015-10-27 00:00:00+00:00</td>\n",
       "      <td>Tuesday</td>\n",
       "      <td>Show-Up</td>\n",
       "      <td>0</td>\n",
       "      <td>0</td>\n",
       "      <td>0</td>\n",
       "      <td>0</td>\n",
       "      <td>0</td>\n",
       "      <td>0</td>\n",
       "      <td>0</td>\n",
       "      <td>1</td>\n",
       "      <td>-6</td>\n",
       "      <td>October</td>\n",
       "    </tr>\n",
       "  </tbody>\n",
       "</table>\n",
       "</div>"
      ],
      "text/plain": [
       "   Age Gender   AppointmentRegistration           AppointmentData  \\\n",
       "0   19      M 2014-12-16 14:46:25+00:00 2015-01-14 00:00:00+00:00   \n",
       "1   24      F 2015-08-18 07:01:26+00:00 2015-08-19 00:00:00+00:00   \n",
       "2    4      F 2014-02-17 12:53:46+00:00 2014-02-18 00:00:00+00:00   \n",
       "3    5      M 2014-07-23 17:02:11+00:00 2014-08-07 00:00:00+00:00   \n",
       "4   38      M 2015-10-21 15:20:09+00:00 2015-10-27 00:00:00+00:00   \n",
       "\n",
       "  DayOfTheWeek   Status  Diabetes  Alchoholism  Hypertension  Handicap  \\\n",
       "0    Wednesday  Show-Up         0            0             0         0   \n",
       "1    Wednesday  Show-Up         0            0             0         0   \n",
       "2      Tuesday  Show-Up         0            0             0         0   \n",
       "3     Thursday  Show-Up         0            0             0         0   \n",
       "4      Tuesday  Show-Up         0            0             0         0   \n",
       "\n",
       "   Smokes  Scholarship  Tuberculosis  Sms_Reminder  AwaitingTime  \\\n",
       "0       0            0             0             0           -29   \n",
       "1       0            0             0             0            -1   \n",
       "2       0            0             0             0            -1   \n",
       "3       0            0             0             1           -15   \n",
       "4       0            0             0             1            -6   \n",
       "\n",
       "  AppointmentMonths  \n",
       "0           January  \n",
       "1            August  \n",
       "2          February  \n",
       "3            August  \n",
       "4           October  "
      ]
     },
     "execution_count": 8,
     "metadata": {},
     "output_type": "execute_result"
    }
   ],
   "source": [
    "data.head()"
   ]
  },
  {
   "cell_type": "code",
   "execution_count": 9,
   "metadata": {},
   "outputs": [
    {
     "data": {
      "text/html": [
       "<div>\n",
       "<style scoped>\n",
       "    .dataframe tbody tr th:only-of-type {\n",
       "        vertical-align: middle;\n",
       "    }\n",
       "\n",
       "    .dataframe tbody tr th {\n",
       "        vertical-align: top;\n",
       "    }\n",
       "\n",
       "    .dataframe thead th {\n",
       "        text-align: right;\n",
       "    }\n",
       "</style>\n",
       "<table border=\"1\" class=\"dataframe\">\n",
       "  <thead>\n",
       "    <tr style=\"text-align: right;\">\n",
       "      <th></th>\n",
       "      <th>Age</th>\n",
       "      <th>Diabetes</th>\n",
       "      <th>Alchoholism</th>\n",
       "      <th>Hypertension</th>\n",
       "      <th>Handicap</th>\n",
       "      <th>Smokes</th>\n",
       "      <th>Scholarship</th>\n",
       "      <th>Tuberculosis</th>\n",
       "      <th>Sms_Reminder</th>\n",
       "      <th>AwaitingTime</th>\n",
       "    </tr>\n",
       "  </thead>\n",
       "  <tbody>\n",
       "    <tr>\n",
       "      <th>count</th>\n",
       "      <td>300000.000000</td>\n",
       "      <td>300000.000000</td>\n",
       "      <td>300000.000000</td>\n",
       "      <td>300000.000000</td>\n",
       "      <td>300000.000000</td>\n",
       "      <td>300000.000000</td>\n",
       "      <td>300000.000000</td>\n",
       "      <td>300000.000000</td>\n",
       "      <td>300000.000000</td>\n",
       "      <td>300000.000000</td>\n",
       "    </tr>\n",
       "    <tr>\n",
       "      <th>mean</th>\n",
       "      <td>37.808017</td>\n",
       "      <td>0.077967</td>\n",
       "      <td>0.025010</td>\n",
       "      <td>0.215890</td>\n",
       "      <td>0.020523</td>\n",
       "      <td>0.052370</td>\n",
       "      <td>0.096897</td>\n",
       "      <td>0.000450</td>\n",
       "      <td>0.574173</td>\n",
       "      <td>-13.841813</td>\n",
       "    </tr>\n",
       "    <tr>\n",
       "      <th>std</th>\n",
       "      <td>22.809014</td>\n",
       "      <td>0.268120</td>\n",
       "      <td>0.156156</td>\n",
       "      <td>0.411439</td>\n",
       "      <td>0.155934</td>\n",
       "      <td>0.222772</td>\n",
       "      <td>0.295818</td>\n",
       "      <td>0.021208</td>\n",
       "      <td>0.499826</td>\n",
       "      <td>15.687697</td>\n",
       "    </tr>\n",
       "    <tr>\n",
       "      <th>min</th>\n",
       "      <td>-2.000000</td>\n",
       "      <td>0.000000</td>\n",
       "      <td>0.000000</td>\n",
       "      <td>0.000000</td>\n",
       "      <td>0.000000</td>\n",
       "      <td>0.000000</td>\n",
       "      <td>0.000000</td>\n",
       "      <td>0.000000</td>\n",
       "      <td>0.000000</td>\n",
       "      <td>-398.000000</td>\n",
       "    </tr>\n",
       "    <tr>\n",
       "      <th>25%</th>\n",
       "      <td>19.000000</td>\n",
       "      <td>0.000000</td>\n",
       "      <td>0.000000</td>\n",
       "      <td>0.000000</td>\n",
       "      <td>0.000000</td>\n",
       "      <td>0.000000</td>\n",
       "      <td>0.000000</td>\n",
       "      <td>0.000000</td>\n",
       "      <td>0.000000</td>\n",
       "      <td>-20.000000</td>\n",
       "    </tr>\n",
       "    <tr>\n",
       "      <th>50%</th>\n",
       "      <td>38.000000</td>\n",
       "      <td>0.000000</td>\n",
       "      <td>0.000000</td>\n",
       "      <td>0.000000</td>\n",
       "      <td>0.000000</td>\n",
       "      <td>0.000000</td>\n",
       "      <td>0.000000</td>\n",
       "      <td>0.000000</td>\n",
       "      <td>1.000000</td>\n",
       "      <td>-8.000000</td>\n",
       "    </tr>\n",
       "    <tr>\n",
       "      <th>75%</th>\n",
       "      <td>56.000000</td>\n",
       "      <td>0.000000</td>\n",
       "      <td>0.000000</td>\n",
       "      <td>0.000000</td>\n",
       "      <td>0.000000</td>\n",
       "      <td>0.000000</td>\n",
       "      <td>0.000000</td>\n",
       "      <td>0.000000</td>\n",
       "      <td>1.000000</td>\n",
       "      <td>-4.000000</td>\n",
       "    </tr>\n",
       "    <tr>\n",
       "      <th>max</th>\n",
       "      <td>113.000000</td>\n",
       "      <td>1.000000</td>\n",
       "      <td>1.000000</td>\n",
       "      <td>1.000000</td>\n",
       "      <td>4.000000</td>\n",
       "      <td>1.000000</td>\n",
       "      <td>1.000000</td>\n",
       "      <td>1.000000</td>\n",
       "      <td>2.000000</td>\n",
       "      <td>-1.000000</td>\n",
       "    </tr>\n",
       "  </tbody>\n",
       "</table>\n",
       "</div>"
      ],
      "text/plain": [
       "                 Age       Diabetes    Alchoholism   Hypertension  \\\n",
       "count  300000.000000  300000.000000  300000.000000  300000.000000   \n",
       "mean       37.808017       0.077967       0.025010       0.215890   \n",
       "std        22.809014       0.268120       0.156156       0.411439   \n",
       "min        -2.000000       0.000000       0.000000       0.000000   \n",
       "25%        19.000000       0.000000       0.000000       0.000000   \n",
       "50%        38.000000       0.000000       0.000000       0.000000   \n",
       "75%        56.000000       0.000000       0.000000       0.000000   \n",
       "max       113.000000       1.000000       1.000000       1.000000   \n",
       "\n",
       "            Handicap         Smokes    Scholarship   Tuberculosis  \\\n",
       "count  300000.000000  300000.000000  300000.000000  300000.000000   \n",
       "mean        0.020523       0.052370       0.096897       0.000450   \n",
       "std         0.155934       0.222772       0.295818       0.021208   \n",
       "min         0.000000       0.000000       0.000000       0.000000   \n",
       "25%         0.000000       0.000000       0.000000       0.000000   \n",
       "50%         0.000000       0.000000       0.000000       0.000000   \n",
       "75%         0.000000       0.000000       0.000000       0.000000   \n",
       "max         4.000000       1.000000       1.000000       1.000000   \n",
       "\n",
       "        Sms_Reminder   AwaitingTime  \n",
       "count  300000.000000  300000.000000  \n",
       "mean        0.574173     -13.841813  \n",
       "std         0.499826      15.687697  \n",
       "min         0.000000    -398.000000  \n",
       "25%         0.000000     -20.000000  \n",
       "50%         1.000000      -8.000000  \n",
       "75%         1.000000      -4.000000  \n",
       "max         2.000000      -1.000000  "
      ]
     },
     "execution_count": 9,
     "metadata": {},
     "output_type": "execute_result"
    }
   ],
   "source": [
    "data.describe()"
   ]
  },
  {
   "cell_type": "code",
   "execution_count": 10,
   "metadata": {},
   "outputs": [],
   "source": [
    "data = data[(data['Age'] < 100) & (data['Age'] > 0)] ## drop all ages more than 100 and less than 0 \n",
    "data.AwaitingTime = data.AwaitingTime.apply(abs)"
   ]
  },
  {
   "cell_type": "code",
   "execution_count": 11,
   "metadata": {},
   "outputs": [
    {
     "data": {
      "text/html": [
       "<div>\n",
       "<style scoped>\n",
       "    .dataframe tbody tr th:only-of-type {\n",
       "        vertical-align: middle;\n",
       "    }\n",
       "\n",
       "    .dataframe tbody tr th {\n",
       "        vertical-align: top;\n",
       "    }\n",
       "\n",
       "    .dataframe thead th {\n",
       "        text-align: right;\n",
       "    }\n",
       "</style>\n",
       "<table border=\"1\" class=\"dataframe\">\n",
       "  <thead>\n",
       "    <tr style=\"text-align: right;\">\n",
       "      <th></th>\n",
       "      <th>Age</th>\n",
       "      <th>Diabetes</th>\n",
       "      <th>Alchoholism</th>\n",
       "      <th>Hypertension</th>\n",
       "      <th>Handicap</th>\n",
       "      <th>Smokes</th>\n",
       "      <th>Scholarship</th>\n",
       "      <th>Tuberculosis</th>\n",
       "      <th>Sms_Reminder</th>\n",
       "      <th>AwaitingTime</th>\n",
       "    </tr>\n",
       "  </thead>\n",
       "  <tbody>\n",
       "    <tr>\n",
       "      <th>count</th>\n",
       "      <td>289631.000000</td>\n",
       "      <td>289631.000000</td>\n",
       "      <td>289631.000000</td>\n",
       "      <td>289631.000000</td>\n",
       "      <td>289631.000000</td>\n",
       "      <td>289631.000000</td>\n",
       "      <td>289631.000000</td>\n",
       "      <td>289631.000000</td>\n",
       "      <td>289631.000000</td>\n",
       "      <td>289631.000000</td>\n",
       "    </tr>\n",
       "    <tr>\n",
       "      <th>mean</th>\n",
       "      <td>39.148517</td>\n",
       "      <td>0.080748</td>\n",
       "      <td>0.025905</td>\n",
       "      <td>0.223536</td>\n",
       "      <td>0.021227</td>\n",
       "      <td>0.054241</td>\n",
       "      <td>0.099364</td>\n",
       "      <td>0.000459</td>\n",
       "      <td>0.575284</td>\n",
       "      <td>13.753272</td>\n",
       "    </tr>\n",
       "    <tr>\n",
       "      <th>std</th>\n",
       "      <td>22.035217</td>\n",
       "      <td>0.272448</td>\n",
       "      <td>0.158853</td>\n",
       "      <td>0.416615</td>\n",
       "      <td>0.158558</td>\n",
       "      <td>0.226494</td>\n",
       "      <td>0.299151</td>\n",
       "      <td>0.021424</td>\n",
       "      <td>0.499705</td>\n",
       "      <td>15.630098</td>\n",
       "    </tr>\n",
       "    <tr>\n",
       "      <th>min</th>\n",
       "      <td>1.000000</td>\n",
       "      <td>0.000000</td>\n",
       "      <td>0.000000</td>\n",
       "      <td>0.000000</td>\n",
       "      <td>0.000000</td>\n",
       "      <td>0.000000</td>\n",
       "      <td>0.000000</td>\n",
       "      <td>0.000000</td>\n",
       "      <td>0.000000</td>\n",
       "      <td>1.000000</td>\n",
       "    </tr>\n",
       "    <tr>\n",
       "      <th>25%</th>\n",
       "      <td>21.000000</td>\n",
       "      <td>0.000000</td>\n",
       "      <td>0.000000</td>\n",
       "      <td>0.000000</td>\n",
       "      <td>0.000000</td>\n",
       "      <td>0.000000</td>\n",
       "      <td>0.000000</td>\n",
       "      <td>0.000000</td>\n",
       "      <td>0.000000</td>\n",
       "      <td>4.000000</td>\n",
       "    </tr>\n",
       "    <tr>\n",
       "      <th>50%</th>\n",
       "      <td>39.000000</td>\n",
       "      <td>0.000000</td>\n",
       "      <td>0.000000</td>\n",
       "      <td>0.000000</td>\n",
       "      <td>0.000000</td>\n",
       "      <td>0.000000</td>\n",
       "      <td>0.000000</td>\n",
       "      <td>0.000000</td>\n",
       "      <td>1.000000</td>\n",
       "      <td>8.000000</td>\n",
       "    </tr>\n",
       "    <tr>\n",
       "      <th>75%</th>\n",
       "      <td>56.000000</td>\n",
       "      <td>0.000000</td>\n",
       "      <td>0.000000</td>\n",
       "      <td>0.000000</td>\n",
       "      <td>0.000000</td>\n",
       "      <td>0.000000</td>\n",
       "      <td>0.000000</td>\n",
       "      <td>0.000000</td>\n",
       "      <td>1.000000</td>\n",
       "      <td>20.000000</td>\n",
       "    </tr>\n",
       "    <tr>\n",
       "      <th>max</th>\n",
       "      <td>99.000000</td>\n",
       "      <td>1.000000</td>\n",
       "      <td>1.000000</td>\n",
       "      <td>1.000000</td>\n",
       "      <td>4.000000</td>\n",
       "      <td>1.000000</td>\n",
       "      <td>1.000000</td>\n",
       "      <td>1.000000</td>\n",
       "      <td>2.000000</td>\n",
       "      <td>398.000000</td>\n",
       "    </tr>\n",
       "  </tbody>\n",
       "</table>\n",
       "</div>"
      ],
      "text/plain": [
       "                 Age       Diabetes    Alchoholism   Hypertension  \\\n",
       "count  289631.000000  289631.000000  289631.000000  289631.000000   \n",
       "mean       39.148517       0.080748       0.025905       0.223536   \n",
       "std        22.035217       0.272448       0.158853       0.416615   \n",
       "min         1.000000       0.000000       0.000000       0.000000   \n",
       "25%        21.000000       0.000000       0.000000       0.000000   \n",
       "50%        39.000000       0.000000       0.000000       0.000000   \n",
       "75%        56.000000       0.000000       0.000000       0.000000   \n",
       "max        99.000000       1.000000       1.000000       1.000000   \n",
       "\n",
       "            Handicap         Smokes    Scholarship   Tuberculosis  \\\n",
       "count  289631.000000  289631.000000  289631.000000  289631.000000   \n",
       "mean        0.021227       0.054241       0.099364       0.000459   \n",
       "std         0.158558       0.226494       0.299151       0.021424   \n",
       "min         0.000000       0.000000       0.000000       0.000000   \n",
       "25%         0.000000       0.000000       0.000000       0.000000   \n",
       "50%         0.000000       0.000000       0.000000       0.000000   \n",
       "75%         0.000000       0.000000       0.000000       0.000000   \n",
       "max         4.000000       1.000000       1.000000       1.000000   \n",
       "\n",
       "        Sms_Reminder   AwaitingTime  \n",
       "count  289631.000000  289631.000000  \n",
       "mean        0.575284      13.753272  \n",
       "std         0.499705      15.630098  \n",
       "min         0.000000       1.000000  \n",
       "25%         0.000000       4.000000  \n",
       "50%         1.000000       8.000000  \n",
       "75%         1.000000      20.000000  \n",
       "max         2.000000     398.000000  "
      ]
     },
     "execution_count": 11,
     "metadata": {},
     "output_type": "execute_result"
    }
   ],
   "source": [
    "data.describe()"
   ]
  },
  {
   "cell_type": "markdown",
   "metadata": {},
   "source": [
    "## Preliminary questions answered by data visualization\n",
    "### 1.Who has hypertension?\n",
    "#### Below we observe more females have a higher count of hypertension, but the data contains more entried for females than males.\n"
   ]
  },
  {
   "cell_type": "code",
   "execution_count": 12,
   "metadata": {},
   "outputs": [
    {
     "data": {
      "text/plain": [
       "<matplotlib.axes._subplots.AxesSubplot at 0x222ace7cb70>"
      ]
     },
     "execution_count": 12,
     "metadata": {},
     "output_type": "execute_result"
    },
    {
     "data": {
      "image/png": "[encoded data removed]",
      "text/plain": [
       "<Figure size 432x288 with 1 Axes>"
      ]
     },
     "metadata": {
      "needs_background": "light"
     },
     "output_type": "display_data"
    }
   ],
   "source": [
    "\n",
    "visits = data[data['Hypertension'] == 1]\n",
    "sns.countplot(x='Gender', data=visits)"
   ]
  },
  {
   "cell_type": "markdown",
   "metadata": {},
   "source": [
    "### 2. what is the proportion of male & female?\n",
    "#### We can see there is a higer portion of women on the dataset"
   ]
  },
  {
   "cell_type": "code",
   "execution_count": 13,
   "metadata": {},
   "outputs": [
    {
     "data": {
      "text/plain": [
       "F    0.674527\n",
       "M    0.325473\n",
       "Name: Gender, dtype: float64"
      ]
     },
     "execution_count": 13,
     "metadata": {},
     "output_type": "execute_result"
    }
   ],
   "source": [
    "\n",
    "data['Gender'].value_counts(normalize = True)"
   ]
  },
  {
   "cell_type": "markdown",
   "metadata": {},
   "source": [
    "### Visualize gender and hypertension distributions"
   ]
  },
  {
   "cell_type": "code",
   "execution_count": 14,
   "metadata": {},
   "outputs": [
    {
     "data": {
      "text/plain": [
       "(-1.106186393288021,\n",
       " 1.1002945901565724,\n",
       " -1.1060981953800797,\n",
       " 1.103556809187218)"
      ]
     },
     "execution_count": 14,
     "metadata": {},
     "output_type": "execute_result"
    },
    {
     "data": {
      "image/png": "[encoded data removed]",
      "text/plain": [
       "<Figure size 432x288 with 1 Axes>"
      ]
     },
     "metadata": {},
     "output_type": "display_data"
    }
   ],
   "source": [
    "\n",
    "fig, pie = plt.subplots()\n",
    "data['Gender'].value_counts(normalize = True).plot(kind='pie', autopct='%1.1f%%')\n",
    "pie.axis('equal')"
   ]
  },
  {
   "cell_type": "code",
   "execution_count": 15,
   "metadata": {},
   "outputs": [
    {
     "data": {
      "text/plain": [
       "(-1.105387128486983,\n",
       " 1.1002565531215596,\n",
       " -1.1048839022341808,\n",
       " 1.1040425648925511)"
      ]
     },
     "execution_count": 15,
     "metadata": {},
     "output_type": "execute_result"
    },
    {
     "data": {
      "image/png": "[encoded data removed]",
      "text/plain": [
       "<Figure size 432x288 with 1 Axes>"
      ]
     },
     "metadata": {},
     "output_type": "display_data"
    }
   ],
   "source": [
    "\n",
    "fig, pie = plt.subplots()\n",
    "data['Hypertension'].value_counts(normalize = True).plot(kind='pie', autopct='%1.1f%%')\n",
    "pie.axis('equal')"
   ]
  },
  {
   "cell_type": "markdown",
   "metadata": {},
   "source": [
    "### 3. Does hypertension differ between the sexes?\n",
    "\n",
    "#### Although females made up more of the patient population in the dataset, roughly similar proportions of males and females had hypertension."
   ]
  },
  {
   "cell_type": "code",
   "execution_count": 16,
   "metadata": {},
   "outputs": [
    {
     "data": {
      "image/png": "[encoded data removed]",
      "text/plain": [
       "<Figure size 432x288 with 1 Axes>"
      ]
     },
     "metadata": {
      "needs_background": "light"
     },
     "output_type": "display_data"
    }
   ],
   "source": [
    "x = sns.countplot(x='Hypertension', hue='Gender', data=data)\n",
    "# to plot the values over the labels\n",
    "total = float(len(data))\n",
    "for p in x.patches:\n",
    "    height = p.get_height()\n",
    "    x.text(p.get_x()+p.get_width()/2.,\n",
    "            height + 3,\n",
    "            '{:1.2f}'.format(height/total),\n",
    "            ha='center')"
   ]
  },
  {
   "cell_type": "markdown",
   "metadata": {},
   "source": [
    "### 4. Does Dr. visits for hypertensive patients vary by month?\n",
    "####  fewer appointments occurred over the North America winter months but the number of hypertensive visits were fairly stable from month-to-month.  "
   ]
  },
  {
   "cell_type": "code",
   "execution_count": 17,
   "metadata": {},
   "outputs": [
    {
     "data": {
      "text/plain": [
       "(array([ 0,  1,  2,  3,  4,  5,  6,  7,  8,  9, 10, 11]),\n",
       " <a list of 12 Text xticklabel objects>)"
      ]
     },
     "execution_count": 17,
     "metadata": {},
     "output_type": "execute_result"
    },
    {
     "data": {
      "image/png": "[encoded data removed]",
      "text/plain": [
       "<Figure size 432x288 with 1 Axes>"
      ]
     },
     "metadata": {
      "needs_background": "light"
     },
     "output_type": "display_data"
    }
   ],
   "source": [
    "sns.countplot(x='AppointmentMonths', hue='Hypertension', data=data, order = data['AppointmentMonths'].value_counts().index)\n",
    "plt.xticks(rotation=28)"
   ]
  },
  {
   "cell_type": "markdown",
   "metadata": {},
   "source": [
    "### 5. In which day the patients visit their doctors most frequently?\n",
    "\n",
    "#### The majority of appointments were during the week with the peak number of appointments occurring on Tuesday and Wednesday.  "
   ]
  },
  {
   "cell_type": "code",
   "execution_count": 18,
   "metadata": {},
   "outputs": [
    {
     "data": {
      "text/plain": [
       "(array([0, 1, 2, 3, 4, 5, 6]), <a list of 7 Text xticklabel objects>)"
      ]
     },
     "execution_count": 18,
     "metadata": {},
     "output_type": "execute_result"
    },
    {
     "data": {
      "image/png": "[encoded data removed]",
      "text/plain": [
       "<Figure size 432x288 with 1 Axes>"
      ]
     },
     "metadata": {
      "needs_background": "light"
     },
     "output_type": "display_data"
    }
   ],
   "source": [
    "\n",
    "sns.countplot(x='DayOfTheWeek', data=visits)\n",
    "plt.xticks(rotation=15)"
   ]
  },
  {
   "cell_type": "markdown",
   "metadata": {},
   "source": [
    "### 6. is there specific weekday when most hypertensive patients visit?\n",
    " \n",
    "#### The result show fewer visits on the weekend."
   ]
  },
  {
   "cell_type": "code",
   "execution_count": 19,
   "metadata": {},
   "outputs": [
    {
     "data": {
      "text/plain": [
       "DayOfTheWeek\n",
       "Tuesday      13802\n",
       "Wednesday    13667\n",
       "Monday       13317\n",
       "Thursday     12349\n",
       "Friday       11130\n",
       "Saturday       476\n",
       "Sunday           2\n",
       "Name: Status, dtype: int64"
      ]
     },
     "execution_count": 19,
     "metadata": {},
     "output_type": "execute_result"
    }
   ],
   "source": [
    "miss = data[data['Hypertension'] == 1]\n",
    "miss.groupby('DayOfTheWeek')['Status'].count().sort_values(ascending=False)"
   ]
  },
  {
   "cell_type": "code",
   "execution_count": 20,
   "metadata": {},
   "outputs": [
    {
     "data": {
      "text/plain": [
       "<matplotlib.axes._subplots.AxesSubplot at 0x222acd3e0f0>"
      ]
     },
     "execution_count": 20,
     "metadata": {},
     "output_type": "execute_result"
    },
    {
     "data": {
      "image/png": "[encoded data removed]",
      "text/plain": [
       "<Figure size 432x288 with 1 Axes>"
      ]
     },
     "metadata": {
      "needs_background": "light"
     },
     "output_type": "display_data"
    }
   ],
   "source": [
    "sns.countplot(x='DayOfTheWeek', hue='Hypertension', data=data)"
   ]
  },
  {
   "cell_type": "markdown",
   "metadata": {},
   "source": [
    "###  7. Do men and women visit the doctor on the same days?\n",
    "#### Taking into consideration there are more women samples it seems pretty even that men and women visit the doctor"
   ]
  },
  {
   "cell_type": "code",
   "execution_count": 21,
   "metadata": {},
   "outputs": [
    {
     "data": {
      "text/plain": [
       "<matplotlib.axes._subplots.AxesSubplot at 0x222ac1303c8>"
      ]
     },
     "execution_count": 21,
     "metadata": {},
     "output_type": "execute_result"
    },
    {
     "data": {
      "image/png": "[encoded data removed]",
      "text/plain": [
       "<Figure size 432x288 with 1 Axes>"
      ]
     },
     "metadata": {
      "needs_background": "light"
     },
     "output_type": "display_data"
    }
   ],
   "source": [
    "sns.countplot(x='DayOfTheWeek', hue='Gender', data=visits)"
   ]
  },
  {
   "cell_type": "markdown",
   "metadata": {},
   "source": [
    "### 8. how likely are hypertensive patients to recieve an text reminder?\n",
    "#### in the graph below it seems like SMS does not have much effect "
   ]
  },
  {
   "cell_type": "code",
   "execution_count": 22,
   "metadata": {},
   "outputs": [
    {
     "data": {
      "text/plain": [
       "<seaborn.axisgrid.FacetGrid at 0x222abfa3b38>"
      ]
     },
     "execution_count": 22,
     "metadata": {},
     "output_type": "execute_result"
    },
    {
     "data": {
      "image/png": "[encoded data removed]",
      "text/plain": [
       "<Figure size 434.75x360 with 1 Axes>"
      ]
     },
     "metadata": {
      "needs_background": "light"
     },
     "output_type": "display_data"
    }
   ],
   "source": [
    "\n",
    "sns.catplot('Sms_Reminder', hue='Hypertension', data=data, kind='count')"
   ]
  },
  {
   "cell_type": "markdown",
   "metadata": {},
   "source": [
    "### 8.Next the feature variables were visualized with the target variable of hypertension status"
   ]
  },
  {
   "cell_type": "code",
   "execution_count": 23,
   "metadata": {},
   "outputs": [
    {
     "data": {
      "image/png": "[encoded data removed]",
      "text/plain": [
       "<Figure size 432x288 with 1 Axes>"
      ]
     },
     "metadata": {
      "needs_background": "light"
     },
     "output_type": "display_data"
    },
    {
     "data": {
      "image/png": "[encoded data removed]",
      "text/plain": [
       "<Figure size 432x288 with 1 Axes>"
      ]
     },
     "metadata": {
      "needs_background": "light"
     },
     "output_type": "display_data"
    },
    {
     "data": {
      "image/png": "[encoded data removed]",
      "text/plain": [
       "<Figure size 432x288 with 1 Axes>"
      ]
     },
     "metadata": {
      "needs_background": "light"
     },
     "output_type": "display_data"
    },
    {
     "data": {
      "image/png": "[encoded data removed]",
      "text/plain": [
       "<Figure size 432x288 with 1 Axes>"
      ]
     },
     "metadata": {
      "needs_background": "light"
     },
     "output_type": "display_data"
    },
    {
     "data": {
      "image/png": "[encoded data removed]",
      "text/plain": [
       "<Figure size 432x288 with 1 Axes>"
      ]
     },
     "metadata": {
      "needs_background": "light"
     },
     "output_type": "display_data"
    },
    {
     "data": {
      "image/png": "[encoded data removed]",
      "text/plain": [
       "<Figure size 432x288 with 1 Axes>"
      ]
     },
     "metadata": {
      "needs_background": "light"
     },
     "output_type": "display_data"
    },
    {
     "data": {
      "image/png": "[encoded data removed]",
      "text/plain": [
       "<Figure size 432x288 with 1 Axes>"
      ]
     },
     "metadata": {
      "needs_background": "light"
     },
     "output_type": "display_data"
    }
   ],
   "source": [
    "sns.countplot(x='Gender', hue='Hypertension', data=data, palette='RdBu')\n",
    "plt.show();\n",
    "sns.countplot(x='Handicap', hue='Hypertension', data=data, palette='RdBu')\n",
    "plt.show();\n",
    "sns.countplot(x='Alchoholism', hue='Hypertension', data=data, palette='RdBu')\n",
    "plt.show();\n",
    "sns.countplot(x='Hypertension', hue='Hypertension', data=data, palette='RdBu')\n",
    "plt.show();\n",
    "sns.countplot(x='Diabetes', hue='Hypertension', data=data, palette='RdBu')\n",
    "plt.show();\n",
    "sns.countplot(x='Scholarship', hue='Hypertension', data=data, palette='RdBu')\n",
    "plt.show();\n",
    "sns.countplot(x='Smokes', hue='Hypertension', data=data, palette='RdBu')\n",
    "plt.show();"
   ]
  },
  {
   "cell_type": "code",
   "execution_count": 24,
   "metadata": {},
   "outputs": [
    {
     "data": {
      "text/plain": [
       "<matplotlib.axes._subplots.AxesSubplot at 0x222acb6c588>"
      ]
     },
     "execution_count": 24,
     "metadata": {},
     "output_type": "execute_result"
    },
    {
     "data": {
      "image/png": "[encoded data removed]",
      "text/plain": [
       "<Figure size 432x288 with 1 Axes>"
      ]
     },
     "metadata": {
      "needs_background": "light"
     },
     "output_type": "display_data"
    }
   ],
   "source": [
    "import seaborn as sns\n",
    "sns.scatterplot(x=\"Age\", y=\"Hypertension\", data=data)\n"
   ]
  },
  {
   "cell_type": "markdown",
   "metadata": {},
   "source": [
    "### Below We identify the total amount of patient in our data set to use on the function below\n",
    "### Then we use a  function what will calculate all percentages of:     \n",
    "* Scholarship\n",
    "* Appointment Status\n",
    "* Diabetes\n",
    "* Alchoholism\n",
    "* Smokes\n"
   ]
  },
  {
   "cell_type": "code",
   "execution_count": 25,
   "metadata": {},
   "outputs": [],
   "source": [
    "total_of_patients=len(data)"
   ]
  },
  {
   "cell_type": "code",
   "execution_count": 26,
   "metadata": {},
   "outputs": [],
   "source": [
    "def calculate_percentage(name,data):\n",
    "  \n",
    "    if name == 'Hypertension':\n",
    "        yes, no = data[name].value_counts()\n",
    "        print('percentage of patients no hypertension: {}%'.format(no/total_of_patients*100))\n",
    "        print('percentage of patients with hypertension : {}%'.format(yes/total_of_patients*100))\n",
    "    else:\n",
    "        not_have, have = data[name].value_counts()\n",
    "        print('percentage of patients not have {} : {}%'.format(name,not_have/total_of_patients*100))\n",
    "        print('percentage of patients have {} : {}%'.format(name,have/total_of_patients*100))"
   ]
  },
  {
   "cell_type": "code",
   "execution_count": 27,
   "metadata": {},
   "outputs": [
    {
     "name": "stdout",
     "output_type": "stream",
     "text": [
      "percentage of patients not have Scholarship : 90.06356363787026%\n",
      "percentage of patients have Scholarship : 9.936436362129744%\n",
      "percentage of patients not have Status : 69.69626870051894%\n",
      "percentage of patients have Status : 30.30373129948106%\n",
      "percentage of patients not have Diabetes : 91.92524280895347%\n",
      "percentage of patients have Diabetes : 8.074757191046539%\n",
      "percentage of patients not have Alchoholism : 97.40946238489664%\n",
      "percentage of patients have Alchoholism : 2.5905376151033557%\n",
      "percentage of patients not have Smokes : 94.57585686615037%\n",
      "percentage of patients have Smokes : 5.424143133849622%\n"
     ]
    }
   ],
   "source": [
    "columns=['Scholarship','Status','Diabetes','Alchoholism','Smokes']\n",
    "for name in columns:\n",
    "    calculate_percentage(name,data)"
   ]
  },
  {
   "cell_type": "code",
   "execution_count": 28,
   "metadata": {},
   "outputs": [
    {
     "data": {
      "text/plain": [
       "Text(0.5, 1.0, 'Correlation Matrix for Appointment Data')"
      ]
     },
     "execution_count": 28,
     "metadata": {},
     "output_type": "execute_result"
    },
    {
     "data": {
      "image/png": "[encoded data removed]",
      "text/plain": [
       "<Figure size 792x648 with 2 Axes>"
      ]
     },
     "metadata": {
      "needs_background": "light"
     },
     "output_type": "display_data"
    }
   ],
   "source": [
    "# View correlation matrix\n",
    "corr = data.corr()\n",
    "\n",
    "# Generate a mask for the upper triangle\n",
    "mask = np.zeros_like(corr, dtype=np.bool)\n",
    "mask[np.triu_indices_from(mask)] = True\n",
    "\n",
    "# Set up the matplotlib figure\n",
    "f, ax = plt.subplots(figsize=(11, 9))\n",
    "\n",
    "# Generate a custom diverging colormap\n",
    "cmap = sns.diverging_palette(10, 220, as_cmap=True)\n",
    "\n",
    "# Draw the heatmap with the mask and correct aspect ratio\n",
    "sns.heatmap(corr, mask=mask, cmap=cmap, vmax=.3,\n",
    "            square=True, xticklabels=True, yticklabels=True,\n",
    "            linewidths=.5, cbar_kws={\"shrink\": .5}, ax=ax)\n",
    "plt.title('Correlation Matrix for Appointment Data')\n"
   ]
  },
  {
   "cell_type": "markdown",
   "metadata": {},
   "source": [
    "### Cleaning data into numeric form\n",
    "### Convert  F =0, M=1\n",
    "### Convert no-show status to numbers no-show =0 , show =1"
   ]
  },
  {
   "cell_type": "code",
   "execution_count": 29,
   "metadata": {},
   "outputs": [],
   "source": [
    "data['Gender'] = data.Gender.apply(lambda x: 0 if(x=='F') else 1)\n",
    "data['Status'] = data.Status.apply(lambda x: 0 if(x=='No-Show') else 1)\n",
    "data['Handicap'] = data['Handicap'].apply(lambda x: 2 if x > 2 else x)"
   ]
  },
  {
   "cell_type": "markdown",
   "metadata": {},
   "source": [
    "### Show a sample of the data after numeric enncoding is applied"
   ]
  },
  {
   "cell_type": "code",
   "execution_count": 30,
   "metadata": {
    "scrolled": true
   },
   "outputs": [
    {
     "data": {
      "text/html": [
       "<div>\n",
       "<style scoped>\n",
       "    .dataframe tbody tr th:only-of-type {\n",
       "        vertical-align: middle;\n",
       "    }\n",
       "\n",
       "    .dataframe tbody tr th {\n",
       "        vertical-align: top;\n",
       "    }\n",
       "\n",
       "    .dataframe thead th {\n",
       "        text-align: right;\n",
       "    }\n",
       "</style>\n",
       "<table border=\"1\" class=\"dataframe\">\n",
       "  <thead>\n",
       "    <tr style=\"text-align: right;\">\n",
       "      <th></th>\n",
       "      <th>Age</th>\n",
       "      <th>Gender</th>\n",
       "      <th>AppointmentRegistration</th>\n",
       "      <th>AppointmentData</th>\n",
       "      <th>DayOfTheWeek</th>\n",
       "      <th>Status</th>\n",
       "      <th>Diabetes</th>\n",
       "      <th>Alchoholism</th>\n",
       "      <th>Hypertension</th>\n",
       "      <th>Handicap</th>\n",
       "      <th>Smokes</th>\n",
       "      <th>Scholarship</th>\n",
       "      <th>Tuberculosis</th>\n",
       "      <th>Sms_Reminder</th>\n",
       "      <th>AwaitingTime</th>\n",
       "      <th>AppointmentMonths</th>\n",
       "    </tr>\n",
       "  </thead>\n",
       "  <tbody>\n",
       "    <tr>\n",
       "      <th>0</th>\n",
       "      <td>19</td>\n",
       "      <td>1</td>\n",
       "      <td>2014-12-16 14:46:25+00:00</td>\n",
       "      <td>2015-01-14 00:00:00+00:00</td>\n",
       "      <td>Wednesday</td>\n",
       "      <td>1</td>\n",
       "      <td>0</td>\n",
       "      <td>0</td>\n",
       "      <td>0</td>\n",
       "      <td>0</td>\n",
       "      <td>0</td>\n",
       "      <td>0</td>\n",
       "      <td>0</td>\n",
       "      <td>0</td>\n",
       "      <td>29</td>\n",
       "      <td>January</td>\n",
       "    </tr>\n",
       "    <tr>\n",
       "      <th>1</th>\n",
       "      <td>24</td>\n",
       "      <td>0</td>\n",
       "      <td>2015-08-18 07:01:26+00:00</td>\n",
       "      <td>2015-08-19 00:00:00+00:00</td>\n",
       "      <td>Wednesday</td>\n",
       "      <td>1</td>\n",
       "      <td>0</td>\n",
       "      <td>0</td>\n",
       "      <td>0</td>\n",
       "      <td>0</td>\n",
       "      <td>0</td>\n",
       "      <td>0</td>\n",
       "      <td>0</td>\n",
       "      <td>0</td>\n",
       "      <td>1</td>\n",
       "      <td>August</td>\n",
       "    </tr>\n",
       "    <tr>\n",
       "      <th>2</th>\n",
       "      <td>4</td>\n",
       "      <td>0</td>\n",
       "      <td>2014-02-17 12:53:46+00:00</td>\n",
       "      <td>2014-02-18 00:00:00+00:00</td>\n",
       "      <td>Tuesday</td>\n",
       "      <td>1</td>\n",
       "      <td>0</td>\n",
       "      <td>0</td>\n",
       "      <td>0</td>\n",
       "      <td>0</td>\n",
       "      <td>0</td>\n",
       "      <td>0</td>\n",
       "      <td>0</td>\n",
       "      <td>0</td>\n",
       "      <td>1</td>\n",
       "      <td>February</td>\n",
       "    </tr>\n",
       "    <tr>\n",
       "      <th>3</th>\n",
       "      <td>5</td>\n",
       "      <td>1</td>\n",
       "      <td>2014-07-23 17:02:11+00:00</td>\n",
       "      <td>2014-08-07 00:00:00+00:00</td>\n",
       "      <td>Thursday</td>\n",
       "      <td>1</td>\n",
       "      <td>0</td>\n",
       "      <td>0</td>\n",
       "      <td>0</td>\n",
       "      <td>0</td>\n",
       "      <td>0</td>\n",
       "      <td>0</td>\n",
       "      <td>0</td>\n",
       "      <td>1</td>\n",
       "      <td>15</td>\n",
       "      <td>August</td>\n",
       "    </tr>\n",
       "    <tr>\n",
       "      <th>4</th>\n",
       "      <td>38</td>\n",
       "      <td>1</td>\n",
       "      <td>2015-10-21 15:20:09+00:00</td>\n",
       "      <td>2015-10-27 00:00:00+00:00</td>\n",
       "      <td>Tuesday</td>\n",
       "      <td>1</td>\n",
       "      <td>0</td>\n",
       "      <td>0</td>\n",
       "      <td>0</td>\n",
       "      <td>0</td>\n",
       "      <td>0</td>\n",
       "      <td>0</td>\n",
       "      <td>0</td>\n",
       "      <td>1</td>\n",
       "      <td>6</td>\n",
       "      <td>October</td>\n",
       "    </tr>\n",
       "  </tbody>\n",
       "</table>\n",
       "</div>"
      ],
      "text/plain": [
       "   Age  Gender   AppointmentRegistration           AppointmentData  \\\n",
       "0   19       1 2014-12-16 14:46:25+00:00 2015-01-14 00:00:00+00:00   \n",
       "1   24       0 2015-08-18 07:01:26+00:00 2015-08-19 00:00:00+00:00   \n",
       "2    4       0 2014-02-17 12:53:46+00:00 2014-02-18 00:00:00+00:00   \n",
       "3    5       1 2014-07-23 17:02:11+00:00 2014-08-07 00:00:00+00:00   \n",
       "4   38       1 2015-10-21 15:20:09+00:00 2015-10-27 00:00:00+00:00   \n",
       "\n",
       "  DayOfTheWeek  Status  Diabetes  Alchoholism  Hypertension  Handicap  Smokes  \\\n",
       "0    Wednesday       1         0            0             0         0       0   \n",
       "1    Wednesday       1         0            0             0         0       0   \n",
       "2      Tuesday       1         0            0             0         0       0   \n",
       "3     Thursday       1         0            0             0         0       0   \n",
       "4      Tuesday       1         0            0             0         0       0   \n",
       "\n",
       "   Scholarship  Tuberculosis  Sms_Reminder  AwaitingTime AppointmentMonths  \n",
       "0            0             0             0            29           January  \n",
       "1            0             0             0             1            August  \n",
       "2            0             0             0             1          February  \n",
       "3            0             0             1            15            August  \n",
       "4            0             0             1             6           October  "
      ]
     },
     "execution_count": 30,
     "metadata": {},
     "output_type": "execute_result"
    }
   ],
   "source": [
    "data.head()"
   ]
  },
  {
   "cell_type": "code",
   "execution_count": 31,
   "metadata": {},
   "outputs": [
    {
     "data": {
      "text/plain": [
       "Age                        0\n",
       "Gender                     0\n",
       "AppointmentRegistration    0\n",
       "AppointmentData            0\n",
       "DayOfTheWeek               0\n",
       "Status                     0\n",
       "Diabetes                   0\n",
       "Alchoholism                0\n",
       "Hypertension               0\n",
       "Handicap                   0\n",
       "Smokes                     0\n",
       "Scholarship                0\n",
       "Tuberculosis               0\n",
       "Sms_Reminder               0\n",
       "AwaitingTime               0\n",
       "AppointmentMonths          0\n",
       "dtype: int64"
      ]
     },
     "execution_count": 31,
     "metadata": {},
     "output_type": "execute_result"
    }
   ],
   "source": [
    "#checked for missing data \n",
    "data.isnull().sum()"
   ]
  },
  {
   "cell_type": "code",
   "execution_count": 32,
   "metadata": {},
   "outputs": [],
   "source": [
    "##Dummy code the Day and Month Variable\n",
    "\n",
    "from sklearn.model_selection import cross_validate\n",
    "y = data.Hypertension\n",
    "X = data.drop(columns=['Hypertension', 'AppointmentRegistration', 'AppointmentData'], axis=1)\n",
    "X=pd.get_dummies(X, columns=['DayOfTheWeek', 'AppointmentMonths'], prefix=['DayOfTheWeek', 'AppointmentMonths'])\n",
    "\n",
    "\n"
   ]
  },
  {
   "cell_type": "code",
   "execution_count": 33,
   "metadata": {},
   "outputs": [],
   "source": [
    "##Removing multicollinearity\n",
    "\n",
    "X = X.drop(columns=['DayOfTheWeek_Sunday', 'AppointmentMonths_January'], axis=1)"
   ]
  },
  {
   "cell_type": "code",
   "execution_count": 34,
   "metadata": {},
   "outputs": [
    {
     "data": {
      "text/plain": [
       "Age                            0\n",
       "Gender                         0\n",
       "Status                         0\n",
       "Diabetes                       0\n",
       "Alchoholism                    0\n",
       "Handicap                       0\n",
       "Smokes                         0\n",
       "Scholarship                    0\n",
       "Tuberculosis                   0\n",
       "Sms_Reminder                   0\n",
       "AwaitingTime                   0\n",
       "DayOfTheWeek_Friday            0\n",
       "DayOfTheWeek_Monday            0\n",
       "DayOfTheWeek_Saturday          0\n",
       "DayOfTheWeek_Thursday          0\n",
       "DayOfTheWeek_Tuesday           0\n",
       "DayOfTheWeek_Wednesday         0\n",
       "AppointmentMonths_April        0\n",
       "AppointmentMonths_August       0\n",
       "AppointmentMonths_December     0\n",
       "AppointmentMonths_February     0\n",
       "AppointmentMonths_July         0\n",
       "AppointmentMonths_June         0\n",
       "AppointmentMonths_March        0\n",
       "AppointmentMonths_May          0\n",
       "AppointmentMonths_November     0\n",
       "AppointmentMonths_October      0\n",
       "AppointmentMonths_September    0\n",
       "dtype: int64"
      ]
     },
     "execution_count": 34,
     "metadata": {},
     "output_type": "execute_result"
    }
   ],
   "source": [
    "#checked for missing data \n",
    "X.isnull().sum()"
   ]
  },
  {
   "cell_type": "code",
   "execution_count": 35,
   "metadata": {},
   "outputs": [
    {
     "name": "stderr",
     "output_type": "stream",
     "text": [
      "C:\\Users\\neefi\\Anaconda3\\lib\\site-packages\\sklearn\\model_selection\\_split.py:2179: FutureWarning: From version 0.21, test_size will always complement train_size unless both are specified.\n",
      "  FutureWarning)\n"
     ]
    }
   ],
   "source": [
    "##Split into train, test, and validate\n",
    "\n",
    "X_trainval, X_test, y_trainval, y_test = train_test_split(X, y,train_size=0.8, random_state=100)\n",
    "\n",
    "\n",
    "#splitting data into 60% as train/20% as test/20% as validate\n",
    "X_validate, X_train, y_validate, y_train  = train_test_split(X_trainval, y_trainval, train_size=0.25, random_state=100)"
   ]
  },
  {
   "cell_type": "code",
   "execution_count": 36,
   "metadata": {
    "scrolled": true
   },
   "outputs": [
    {
     "name": "stdout",
     "output_type": "stream",
     "text": [
      "(57927, 28)\n",
      "(57926, 28)\n",
      "(173778, 28)\n"
     ]
    }
   ],
   "source": [
    "#Shape of train/test/Validate data\n",
    "print(X_test.shape)\n",
    "print(X_validate.shape)\n",
    "print(X_train.shape)"
   ]
  },
  {
   "cell_type": "code",
   "execution_count": 37,
   "metadata": {},
   "outputs": [
    {
     "name": "stderr",
     "output_type": "stream",
     "text": [
      "C:\\Users\\neefi\\Anaconda3\\lib\\site-packages\\sklearn\\preprocessing\\data.py:334: DataConversionWarning: Data with input dtype uint8, int64 were all converted to float64 by MinMaxScaler.\n",
      "  return self.partial_fit(X, y)\n",
      "C:\\Users\\neefi\\Anaconda3\\lib\\site-packages\\sklearn\\preprocessing\\data.py:334: DataConversionWarning: Data with input dtype uint8, int64 were all converted to float64 by MinMaxScaler.\n",
      "  return self.partial_fit(X, y)\n",
      "C:\\Users\\neefi\\Anaconda3\\lib\\site-packages\\sklearn\\preprocessing\\data.py:334: DataConversionWarning: Data with input dtype uint8, int64 were all converted to float64 by MinMaxScaler.\n",
      "  return self.partial_fit(X, y)\n",
      "C:\\Users\\neefi\\Anaconda3\\lib\\site-packages\\sklearn\\preprocessing\\data.py:334: DataConversionWarning: Data with input dtype uint8, int64 were all converted to float64 by MinMaxScaler.\n",
      "  return self.partial_fit(X, y)\n",
      "C:\\Users\\neefi\\Anaconda3\\lib\\site-packages\\sklearn\\preprocessing\\data.py:334: DataConversionWarning: Data with input dtype uint8, int64 were all converted to float64 by MinMaxScaler.\n",
      "  return self.partial_fit(X, y)\n"
     ]
    }
   ],
   "source": [
    "##Scaler transformation of the x variables\n",
    "\n",
    "from sklearn.preprocessing import MinMaxScaler\n",
    "scaler=MinMaxScaler()\n",
    "scaler.fit(X_train)\n",
    "X_train_scale=scaler.fit_transform(X_train)\n",
    "X_trainval_scale=scaler.fit_transform(X_trainval)\n",
    "X_validate_scale=scaler.fit_transform(X_validate)\n",
    "X_test_scale=scaler.fit_transform(X_test)"
   ]
  },
  {
   "cell_type": "code",
   "execution_count": 38,
   "metadata": {},
   "outputs": [
    {
     "data": {
      "text/plain": [
       "DescribeResult(nobs=173778, minmax=(array([0., 0., 0., 0., 0., 0., 0., 0., 0., 0., 0., 0., 0., 0., 0., 0., 0.,\n",
       "       0., 0., 0., 0., 0., 0., 0., 0., 0., 0., 0.]), array([1., 1., 1., 1., 1., 1., 1., 1., 1., 1., 1., 1., 1., 1., 1., 1., 1.,\n",
       "       1., 1., 1., 1., 1., 1., 1., 1., 1., 1., 1.])), mean=array([3.89240753e-01, 3.25248305e-01, 6.97861640e-01, 8.09941420e-02,\n",
       "       2.57742637e-02, 1.03609203e-02, 5.48055565e-02, 9.93106147e-02,\n",
       "       4.89129809e-04, 2.87720540e-01, 3.64611194e-02, 1.76552843e-01,\n",
       "       1.97970974e-01, 4.68413723e-03, 1.99921739e-01, 2.10118657e-01,\n",
       "       2.10740140e-01, 7.89282878e-02, 8.69615256e-02, 7.58496473e-02,\n",
       "       7.50210038e-02, 9.11162518e-02, 8.49359528e-02, 8.29506612e-02,\n",
       "       8.71571775e-02, 8.48093545e-02, 8.97179160e-02, 8.58163864e-02]), variance=array([0.05051426, 0.21946311, 0.21085198, 0.07443452, 0.0251101 ,\n",
       "       0.0058874 , 0.05180221, 0.08944853, 0.00048889, 0.06245859,\n",
       "       0.00198415, 0.14538277, 0.15877938, 0.00466222, 0.15995396,\n",
       "       0.16596976, 0.16632969, 0.07269903, 0.07939968, 0.07009688,\n",
       "       0.06939325, 0.08281456, 0.07772228, 0.07607029, 0.07956126,\n",
       "       0.07761717, 0.08166908, 0.07845239]), skewness=array([ 0.08623348,  0.74605677, -0.86179506,  3.07159637,  5.98538626,\n",
       "        8.03020313,  3.91207214,  2.67949207, 45.18238095, -0.23884463,\n",
       "        3.68877735,  1.69659471,  1.51594301, 14.5083146 ,  1.50061155,\n",
       "        1.42310526,  1.41851694,  3.12336687,  2.93165182,  3.20406803,\n",
       "        3.22656257,  2.8416969 ,  2.97764956,  3.0242045 ,  2.92728598,\n",
       "        2.98057388,  2.87134226,  2.95747499]), kurtosis=array([-9.21882742e-01, -1.44339929e+00, -1.25730927e+00,  7.43470428e+00,\n",
       "        3.38248486e+01,  7.10289159e+01,  1.33043084e+01,  5.17967775e+00,\n",
       "        2.03944755e+03, -1.77040000e+00,  3.52895319e+01,  8.78433607e-01,\n",
       "        2.98083199e-01,  2.08491193e+02,  2.51835015e-01,  2.52285819e-02,\n",
       "        1.21903208e-02,  7.75542058e+00,  6.59458237e+00,  8.26605194e+00,\n",
       "        8.41070600e+00,  6.07524125e+00,  6.86639692e+00,  7.14581287e+00,\n",
       "        6.56900321e+00,  6.88382063e+00,  6.24460636e+00,  6.74665832e+00]))"
      ]
     },
     "execution_count": 38,
     "metadata": {},
     "output_type": "execute_result"
    }
   ],
   "source": [
    "###Checking Scaling\n",
    "\n",
    "from scipy import stats\n",
    "stats.describe(X_train_scale)\n"
   ]
  },
  {
   "cell_type": "markdown",
   "metadata": {},
   "source": [
    "## Neural Networks"
   ]
  },
  {
   "cell_type": "code",
   "execution_count": 72,
   "metadata": {},
   "outputs": [
    {
     "name": "stderr",
     "output_type": "stream",
     "text": [
      "Using TensorFlow backend.\n"
     ]
    }
   ],
   "source": [
    "import numpy as np\n",
    "import pandas as pd\n",
    "import tensorflow as tf\n",
    "import matplotlib.pyplot as plt\n",
    "from keras.models import Sequential\n",
    "from keras.layers import Dense\n",
    "from keras.layers import Dropout\n",
    "from keras.wrappers.scikit_learn import KerasClassifier\n",
    "from keras.constraints import maxnorm\n",
    "from keras.optimizers import SGD\n",
    "from sklearn.model_selection import cross_val_score\n",
    "from sklearn.preprocessing import LabelEncoder\n",
    "from sklearn.model_selection import StratifiedKFold\n",
    "from sklearn.preprocessing import MinMaxScaler\n",
    "from sklearn.pipeline import Pipeline"
   ]
  },
  {
   "cell_type": "code",
   "execution_count": 73,
   "metadata": {},
   "outputs": [],
   "source": [
    "##Changing to an array for Keras\n",
    "\n",
    "x_trainval2 = np.array(X_trainval_scale).astype(float)\n",
    "y_trainval2 = np.array(y_trainval)\n",
    "x_test2 = np.array(X_test_scale).astype(float)\n",
    "y_test2 = np.array(y_test)"
   ]
  },
  {
   "cell_type": "code",
   "execution_count": 74,
   "metadata": {},
   "outputs": [
    {
     "name": "stderr",
     "output_type": "stream",
     "text": [
      "WARNING: Logging before flag parsing goes to stderr.\n",
      "W1207 17:21:10.972141 16476 deprecation_wrapper.py:119] From C:\\Users\\neefi\\Anaconda3\\lib\\site-packages\\keras\\backend\\tensorflow_backend.py:74: The name tf.get_default_graph is deprecated. Please use tf.compat.v1.get_default_graph instead.\n",
      "\n",
      "W1207 17:21:11.042424 16476 deprecation_wrapper.py:119] From C:\\Users\\neefi\\Anaconda3\\lib\\site-packages\\keras\\optimizers.py:790: The name tf.train.Optimizer is deprecated. Please use tf.compat.v1.train.Optimizer instead.\n",
      "\n",
      "W1207 17:21:11.042424 16476 deprecation_wrapper.py:119] From C:\\Users\\neefi\\Anaconda3\\lib\\site-packages\\keras\\backend\\tensorflow_backend.py:517: The name tf.placeholder is deprecated. Please use tf.compat.v1.placeholder instead.\n",
      "\n",
      "W1207 17:21:11.051993 16476 deprecation_wrapper.py:119] From C:\\Users\\neefi\\Anaconda3\\lib\\site-packages\\keras\\backend\\tensorflow_backend.py:4138: The name tf.random_uniform is deprecated. Please use tf.random.uniform instead.\n",
      "\n",
      "W1207 17:21:11.091941 16476 deprecation_wrapper.py:119] From C:\\Users\\neefi\\Anaconda3\\lib\\site-packages\\keras\\backend\\tensorflow_backend.py:133: The name tf.placeholder_with_default is deprecated. Please use tf.compat.v1.placeholder_with_default instead.\n",
      "\n",
      "W1207 17:21:11.099930 16476 deprecation.py:506] From C:\\Users\\neefi\\Anaconda3\\lib\\site-packages\\keras\\backend\\tensorflow_backend.py:3445: calling dropout (from tensorflow.python.ops.nn_ops) with keep_prob is deprecated and will be removed in a future version.\n",
      "Instructions for updating:\n",
      "Please use `rate` instead of `keep_prob`. Rate should be set to `rate = 1 - keep_prob`.\n",
      "W1207 17:21:11.469900 16476 deprecation_wrapper.py:119] From C:\\Users\\neefi\\Anaconda3\\lib\\site-packages\\keras\\backend\\tensorflow_backend.py:3376: The name tf.log is deprecated. Please use tf.math.log instead.\n",
      "\n",
      "W1207 17:21:11.474848 16476 deprecation.py:323] From C:\\Users\\neefi\\Anaconda3\\lib\\site-packages\\tensorflow\\python\\ops\\nn_impl.py:180: add_dispatch_support.<locals>.wrapper (from tensorflow.python.ops.array_ops) is deprecated and will be removed in a future version.\n",
      "Instructions for updating:\n",
      "Use tf.where in 2.0, which has the same broadcast rule as np.where\n"
     ]
    },
    {
     "name": "stdout",
     "output_type": "stream",
     "text": [
      "Train on 173778 samples, validate on 57926 samples\n",
      "Epoch 1/5\n",
      " - 80s - loss: 0.3886 - acc: 0.8172 - val_loss: 0.3452 - val_acc: 0.8334\n",
      "Epoch 2/5\n",
      " - 77s - loss: 0.3500 - acc: 0.8310 - val_loss: 0.3428 - val_acc: 0.8330\n",
      "Epoch 3/5\n",
      " - 76s - loss: 0.3474 - acc: 0.8326 - val_loss: 0.3425 - val_acc: 0.8337\n",
      "Epoch 4/5\n",
      " - 78s - loss: 0.3469 - acc: 0.8325 - val_loss: 0.3424 - val_acc: 0.8339\n",
      "Epoch 5/5\n",
      " - 78s - loss: 0.3459 - acc: 0.8334 - val_loss: 0.3422 - val_acc: 0.8339\n"
     ]
    }
   ],
   "source": [
    "# Very Deep Neural Network\n",
    "model = Sequential()\n",
    "model.add(Dense(800, activation='relu'))\n",
    "model.add(Dense(720, activation='relu'))\n",
    "model.add(Dropout(0.025))\n",
    "model.add(Dense(640, activation='relu'))\n",
    "model.add(Dense(560, activation='relu'))\n",
    "model.add(Dropout(0.025))\n",
    "model.add(Dense(480, activation='relu'))\n",
    "model.add(Dense(400, activation='relu'))\n",
    "model.add(Dropout(0.025))\n",
    "model.add(Dense(320, activation='relu'))\n",
    "model.add(Dense(240, activation='relu'))\n",
    "model.add(Dropout(0.025))\n",
    "model.add(Dense(160, activation='relu'))\n",
    "model.add(Dense(128, activation='relu'))\n",
    "model.add(Dropout(0.025))\n",
    "model.add(Dense(96, activation='relu'))\n",
    "model.add(Dense(80, activation='relu'))\n",
    "model.add(Dropout(0.025))\n",
    "model.add(Dense(48, activation='relu'))\n",
    "model.add(Dense(32, activation='relu'))\n",
    "model.add(Dropout(0.025))\n",
    "model.add(Dense(16, activation='relu'))\n",
    "model.add(Dropout(0.025))\n",
    "model.add(Dense(1, activation='sigmoid'))\n",
    "\n",
    "# Compile\n",
    "epochs = 5\n",
    "learning_rate = 0.1\n",
    "decay_rate = learning_rate / epochs\n",
    "momentum = 0.8\n",
    "sgd = SGD(lr=learning_rate, momentum=momentum, decay=decay_rate, nesterov=False)\n",
    "model.compile(loss='binary_crossentropy', optimizer=sgd, metrics=['accuracy'])\n",
    "\n",
    "# Fit the model\n",
    "history = model.fit(x_trainval2, y_trainval2, validation_split=0.25, epochs=epochs, batch_size=64, verbose=2)"
   ]
  },
  {
   "cell_type": "code",
   "execution_count": 75,
   "metadata": {},
   "outputs": [
    {
     "data": {
      "text/plain": [
       "Text(0.5, 0, 'epoch')"
      ]
     },
     "execution_count": 75,
     "metadata": {},
     "output_type": "execute_result"
    },
    {
     "data": {
      "image/png": "[encoded data removed]",
      "text/plain": [
       "<Figure size 432x288 with 1 Axes>"
      ]
     },
     "metadata": {
      "needs_background": "light"
     },
     "output_type": "display_data"
    }
   ],
   "source": [
    "# Summarize history for accuracy\n",
    "plt.plot(history.history['acc'])\n",
    "plt.plot(history.history['val_acc'])\n",
    "plt.title('model accuracy')\n",
    "plt.ylabel('accuracy')\n",
    "plt.xlabel('epoch')"
   ]
  },
  {
   "cell_type": "code",
   "execution_count": 76,
   "metadata": {},
   "outputs": [
    {
     "data": {
      "text/plain": [
       "Text(0.5, 0, 'epoch')"
      ]
     },
     "execution_count": 76,
     "metadata": {},
     "output_type": "execute_result"
    },
    {
     "data": {
      "image/png": "[encoded data removed]",
      "text/plain": [
       "<Figure size 432x288 with 1 Axes>"
      ]
     },
     "metadata": {
      "needs_background": "light"
     },
     "output_type": "display_data"
    }
   ],
   "source": [
    "# Summarize history for loss\n",
    "plt.plot(history.history['loss'])\n",
    "plt.plot(history.history['val_loss'])\n",
    "plt.title('model loss')\n",
    "plt.ylabel('loss')\n",
    "plt.xlabel('epoch')"
   ]
  },
  {
   "cell_type": "code",
   "execution_count": 77,
   "metadata": {},
   "outputs": [
    {
     "name": "stdout",
     "output_type": "stream",
     "text": [
      "57927/57927 [==============================] - 7s 123us/step\n",
      "Test set\n",
      "  Loss: 0.344\n",
      "  Accuracy: 0.831\n"
     ]
    }
   ],
   "source": [
    "##NNET Test Prediction\n",
    "\n",
    "accrsig = model.evaluate(x_test2,y_test2)\n",
    "print('Test set\\n  Loss: {:0.3f}\\n  Accuracy: {:0.3f}'.format(accrsig[0],accrsig[1]))"
   ]
  },
  {
   "cell_type": "code",
   "execution_count": 98,
   "metadata": {},
   "outputs": [],
   "source": [
    "# predict probabilities for test set\n",
    "yhat_probs = model.predict(x_test2, verbose=0)\n",
    "# predict classes for test set\n",
    "yhat_classes = model.predict_classes(x_test2, verbose=0)"
   ]
  },
  {
   "cell_type": "code",
   "execution_count": 99,
   "metadata": {},
   "outputs": [],
   "source": [
    "#from https://www.aiproblog.com/index.php/2019/03/28/how-to-calculate-precision-recall-f1-and-more-for-deep-learning-models/\n",
    "# reduce to 1d array\n",
    "yhat_probs = yhat_probs[:, 0]\n",
    "yhat_classes = yhat_classes[:, 0]"
   ]
  },
  {
   "cell_type": "code",
   "execution_count": 103,
   "metadata": {},
   "outputs": [
    {
     "name": "stdout",
     "output_type": "stream",
     "text": [
      "              precision    recall  f1-score   support\n",
      "\n",
      "           0       0.85      0.94      0.90     44894\n",
      "           1       0.69      0.45      0.55     13033\n",
      "\n",
      "   micro avg       0.83      0.83      0.83     57927\n",
      "   macro avg       0.77      0.70      0.72     57927\n",
      "weighted avg       0.82      0.83      0.82     57927\n",
      "\n"
     ]
    }
   ],
   "source": [
    "##Classification Report\n",
    "\n",
    "from sklearn.metrics import classification_report\n",
    "\n",
    "\n",
    "print(classification_report(y_test2, yhat_classes))"
   ]
  },
  {
   "cell_type": "markdown",
   "metadata": {},
   "source": [
    "## Decision Trees"
   ]
  },
  {
   "cell_type": "code",
   "execution_count": 39,
   "metadata": {},
   "outputs": [
    {
     "name": "stdout",
     "output_type": "stream",
     "text": [
      "Best score on validation set: 0.84\n",
      "Best paramters:  {'max_depth': 8}\n",
      "Test set score with best parameters: 0.83\n"
     ]
    }
   ],
   "source": [
    "##Decision Tree\n",
    "\n",
    "from sklearn.tree import DecisionTreeClassifier\n",
    "\n",
    "best_score=0\n",
    "\n",
    "for max_depth in [2, 3, 4, 5, 6, 7, 8, 9, 10]:\n",
    "    tree=DecisionTreeClassifier(max_depth=max_depth, random_state=0)\n",
    "    tree.fit(X_train_scale, y_train)\n",
    "    score=tree.score(X_validate_scale, y_validate)\n",
    "    if score > best_score:\n",
    "        best_score = score\n",
    "        best_parameters= {'max_depth': max_depth}\n",
    "            \n",
    "tree= DecisionTreeClassifier(**best_parameters)\n",
    "tree.fit(X_trainval_scale, y_trainval)\n",
    "test_score=tree.score(X_test_scale, y_test)\n",
    "print(\"Best score on validation set: {:.2f}\".format(best_score))\n",
    "print(\"Best paramters: \", best_parameters)\n",
    "print(\"Test set score with best parameters: {:.2f}\".format(test_score))\n"
   ]
  },
  {
   "cell_type": "code",
   "execution_count": 40,
   "metadata": {},
   "outputs": [
    {
     "data": {
      "image/png": "[encoded data removed]",
      "text/plain": [
       "<Figure size 432x288 with 1 Axes>"
      ]
     },
     "metadata": {
      "needs_background": "light"
     },
     "output_type": "display_data"
    }
   ],
   "source": [
    "def plot_features_importances(model):\n",
    "    n_features=X_train.shape[1]\n",
    "    feature_names=list(X_train)\n",
    "    plt.barh(np.arange(n_features), model.feature_importances_, align='center')\n",
    "    plt.yticks(np.arange(n_features), feature_names)\n",
    "    plt.xlabel(\"Feature importance\")\n",
    "    plt.ylabel(\"Feature\")\n",
    "    plt.ylim(-1, n_features)\n",
    "    \n",
    "plot_features_importances(tree)"
   ]
  },
  {
   "cell_type": "code",
   "execution_count": 41,
   "metadata": {},
   "outputs": [
    {
     "name": "stdout",
     "output_type": "stream",
     "text": [
      "[[42047  2847]\n",
      " [ 6803  6230]]\n"
     ]
    }
   ],
   "source": [
    "##Confusion Matrix\n",
    "\n",
    "from sklearn.metrics import confusion_matrix\n",
    "\n",
    "pred_tree=tree.predict(X_test_scale)\n",
    "print(confusion_matrix(y_test, pred_tree))"
   ]
  },
  {
   "cell_type": "code",
   "execution_count": 42,
   "metadata": {},
   "outputs": [
    {
     "name": "stdout",
     "output_type": "stream",
     "text": [
      "              precision    recall  f1-score   support\n",
      "\n",
      "           0       0.86      0.94      0.90     44894\n",
      "           1       0.69      0.48      0.56     13033\n",
      "\n",
      "   micro avg       0.83      0.83      0.83     57927\n",
      "   macro avg       0.77      0.71      0.73     57927\n",
      "weighted avg       0.82      0.83      0.82     57927\n",
      "\n"
     ]
    }
   ],
   "source": [
    "##Classification Report\n",
    "\n",
    "from sklearn.metrics import classification_report\n",
    "\n",
    "\n",
    "print(classification_report(y_test, pred_tree))"
   ]
  },
  {
   "cell_type": "markdown",
   "metadata": {},
   "source": [
    "## Random Forest"
   ]
  },
  {
   "cell_type": "code",
   "execution_count": 43,
   "metadata": {},
   "outputs": [
    {
     "name": "stdout",
     "output_type": "stream",
     "text": [
      "Best score on validation set: 0.83\n",
      "Best paramters:  {'max_depth': 10, 'n_estimators': 10}\n",
      "Test set score with best parameters: 0.83\n"
     ]
    }
   ],
   "source": [
    "##Random Forest\n",
    "\n",
    "from sklearn.ensemble import RandomForestClassifier\n",
    "\n",
    "best_score=0\n",
    "\n",
    "for max_depth in [2, 3, 4, 5, 6, 7, 8, 9, 10]:\n",
    "    for n_estimators in [10, 100, 1000, 10000]:\n",
    "        forest=RandomForestClassifier(n_estimators=n_estimators, max_depth=max_depth, random_state=0)\n",
    "        forest.fit(X_train_scale, y_train)\n",
    "        score=forest.score(X_validate_scale, y_validate)\n",
    "        if score > best_score:\n",
    "            best_score = score\n",
    "            best_parameters= {'max_depth': max_depth, 'n_estimators': n_estimators}\n",
    "            \n",
    "forest=RandomForestClassifier(**best_parameters)\n",
    "forest.fit(X_trainval_scale, y_trainval)\n",
    "test_score=forest.score(X_test_scale, y_test)\n",
    "print(\"Best score on validation set: {:.2f}\".format(best_score))\n",
    "print(\"Best paramters: \", best_parameters)\n",
    "print(\"Test set score with best parameters: {:.2f}\".format(test_score))"
   ]
  },
  {
   "cell_type": "code",
   "execution_count": 44,
   "metadata": {},
   "outputs": [
    {
     "data": {
      "image/png": "[encoded data removed]",
      "text/plain": [
       "<Figure size 432x288 with 1 Axes>"
      ]
     },
     "metadata": {
      "needs_background": "light"
     },
     "output_type": "display_data"
    }
   ],
   "source": [
    "def plot_features_importances(model):\n",
    "    n_features=X_train.shape[1]\n",
    "    feature_names=list(X_train)\n",
    "    plt.barh(np.arange(n_features), model.feature_importances_, align='center')\n",
    "    plt.yticks(np.arange(n_features), feature_names)\n",
    "    plt.xlabel(\"Feature importance\")\n",
    "    plt.ylabel(\"Feature\")\n",
    "    plt.ylim(-1, n_features)\n",
    "\n",
    "plot_features_importances(forest)"
   ]
  },
  {
   "cell_type": "code",
   "execution_count": 45,
   "metadata": {},
   "outputs": [
    {
     "name": "stdout",
     "output_type": "stream",
     "text": [
      "[[43831  1063]\n",
      " [ 8677  4356]]\n"
     ]
    }
   ],
   "source": [
    "##Confusion Matrix\n",
    "\n",
    "from sklearn.metrics import confusion_matrix\n",
    "\n",
    "pred_forest=forest.predict(X_test_scale)\n",
    "print(confusion_matrix(y_test, pred_forest))"
   ]
  },
  {
   "cell_type": "code",
   "execution_count": 46,
   "metadata": {},
   "outputs": [
    {
     "name": "stdout",
     "output_type": "stream",
     "text": [
      "              precision    recall  f1-score   support\n",
      "\n",
      "           0       0.83      0.98      0.90     44894\n",
      "           1       0.80      0.33      0.47     13033\n",
      "\n",
      "   micro avg       0.83      0.83      0.83     57927\n",
      "   macro avg       0.82      0.66      0.69     57927\n",
      "weighted avg       0.83      0.83      0.80     57927\n",
      "\n"
     ]
    }
   ],
   "source": [
    "##Classification Report\n",
    "\n",
    "from sklearn.metrics import classification_report\n",
    "\n",
    "\n",
    "print(classification_report(y_test, pred_forest))"
   ]
  },
  {
   "cell_type": "code",
   "execution_count": 59,
   "metadata": {},
   "outputs": [
    {
     "data": {
      "text/plain": [
       "<matplotlib.legend.Legend at 0x188ca659128>"
      ]
     },
     "execution_count": 59,
     "metadata": {},
     "output_type": "execute_result"
    },
    {
     "data": {
      "image/png": "[encoded data removed]",
      "text/plain": [
       "<Figure size 432x288 with 1 Axes>"
      ]
     },
     "metadata": {
      "needs_background": "light"
     },
     "output_type": "display_data"
    }
   ],
   "source": [
    "from sklearn.ensemble import RandomForestClassifier\n",
    "from sklearn.metrics import precision_recall_curve\n",
    "\n",
    "precision_rf, recall_rf, thresholds_rf = precision_recall_curve(y_test, forest.predict_proba(X_test_scale)[:, 1])\n",
    "\n",
    "plt.plot(precision_rf, recall_rf, label=\"rf\")\n",
    "\n",
    "close_default_rf = np.argmin(np.abs(thresholds_rf - 0.5))\n",
    "plt.plot(precision_rf[close_default_rf], recall_rf[close_default_rf], '^', c='k', markersize=10, label=\"threshold 0.5 rf\", fillstyle=\"none\", mew=2)\n",
    "plt.xlabel(\"Precision\")\n",
    "plt.ylabel(\"Recall\")\n",
    "plt.legend(loc=\"best\")"
   ]
  },
  {
   "cell_type": "markdown",
   "metadata": {},
   "source": [
    "## XGBOOST"
   ]
  },
  {
   "cell_type": "code",
   "execution_count": 39,
   "metadata": {},
   "outputs": [
    {
     "name": "stdout",
     "output_type": "stream",
     "text": [
      "Best score on validation set: 0.84\n",
      "Best paramters:  {'n_estimators': 500, 'learning_rate': 0.05, 'max_depth': 4, 'gamma': 5, 'colsample_bytree': 1, 'subsample': 0.5, 'random_state': 1}\n",
      "Test set score with best parameters: 0.84\n"
     ]
    }
   ],
   "source": [
    "#XGBOOST\n",
    "\n",
    "\n",
    "import xgboost as xgb\n",
    "\n",
    "best_score=0\n",
    "\n",
    "for n_estimators in [100, 500, 1000]:\n",
    "    for learning_rate in [0.001, 0.01, 0.05, 0.5]:\n",
    "        for max_depth in [1, 3, 4, 5]:\n",
    "            for subsample in [0.5, 0.75, 1]:\n",
    "                for gamma in [0, 1, 5]:\n",
    "                    for colsample_bytree in [0.1, 0.5, 1]:                 \n",
    "                        XGB2=xgb.XGBClassifier(n_estimators=n_estimators, learning_rate=learning_rate, max_depth=max_depth, gamma=gamma, colsample_bytree=colsample_bytree, subsample=subsample, random_state=1)\n",
    "                        XGB2.fit(X_train_scale, y_train)\n",
    "                        score=XGB2.score(X_validate_scale, y_validate)\n",
    "                        if score > best_score:            \n",
    "                            best_score = score            \n",
    "                            best_parameters= {'n_estimators': n_estimators, 'learning_rate': learning_rate, 'max_depth': max_depth, 'gamma': gamma, 'colsample_bytree': colsample_bytree, 'subsample': subsample, 'random_state': 1 }\n",
    "\n",
    "    \n",
    "             \n",
    "XGB2.fit(X_trainval_scale, y_trainval)\n",
    "test_score=XGB2.score(X_test_scale, y_test)\n",
    "print(\"Best score on validation set: {:.2f}\".format(best_score))\n",
    "print(\"Best paramters: \", best_parameters)\n",
    "print(\"Test set score with best parameters: {:.2f}\".format(test_score))\n",
    "\n"
   ]
  },
  {
   "cell_type": "code",
   "execution_count": 49,
   "metadata": {},
   "outputs": [
    {
     "name": "stdout",
     "output_type": "stream",
     "text": [
      "Best score on validation set: 0.84\n",
      "Best paramters:  {'n_estimators': 500, 'learning_rate': 0.05, 'max_depth': 4, 'gamma': 5, 'colsample_bytree': 1, 'subsample': 0.5, 'random_state': 1}\n",
      "Test set score with best parameters: 0.84\n"
     ]
    }
   ],
   "source": [
    "XGB2.fit(X_trainval_scale, y_trainval)\n",
    "test_score=XGB2.score(X_test_scale, y_test)\n",
    "print(\"Best score on validation set: {:.2f}\".format(best_score))\n",
    "print(\"Best paramters: \", best_parameters)\n",
    "print(\"Test set score with best parameters: {:.2f}\".format(test_score))\n",
    "\n"
   ]
  },
  {
   "cell_type": "code",
   "execution_count": 40,
   "metadata": {},
   "outputs": [
    {
     "name": "stdout",
     "output_type": "stream",
     "text": [
      "[[42280  2614]\n",
      " [ 6891  6142]]\n"
     ]
    }
   ],
   "source": [
    "##Confusion Matrix\n",
    "\n",
    "from sklearn.metrics import confusion_matrix\n",
    "\n",
    "pred_XGB2=XGB2.predict(X_test_scale)\n",
    "print(confusion_matrix(y_test, pred_XGB2))"
   ]
  },
  {
   "cell_type": "code",
   "execution_count": 41,
   "metadata": {},
   "outputs": [
    {
     "name": "stdout",
     "output_type": "stream",
     "text": [
      "              precision    recall  f1-score   support\n",
      "\n",
      "           0       0.86      0.94      0.90     44894\n",
      "           1       0.70      0.47      0.56     13033\n",
      "\n",
      "   micro avg       0.84      0.84      0.84     57927\n",
      "   macro avg       0.78      0.71      0.73     57927\n",
      "weighted avg       0.82      0.84      0.82     57927\n",
      "\n"
     ]
    }
   ],
   "source": [
    "##Classification Report\n",
    "\n",
    "from sklearn.metrics import classification_report\n",
    "\n",
    "\n",
    "print(classification_report(y_test, pred_XGB2))"
   ]
  },
  {
   "cell_type": "markdown",
   "metadata": {},
   "source": [
    "## KNN"
   ]
  },
  {
   "cell_type": "code",
   "execution_count": 50,
   "metadata": {},
   "outputs": [
    {
     "name": "stdout",
     "output_type": "stream",
     "text": [
      "Best score on validation set: 0.82\n",
      "Best paramters:  {'n_neighbors': 8}\n",
      "Test set score with best parameters: 0.82\n"
     ]
    }
   ],
   "source": [
    "##KNN\n",
    "\n",
    "from sklearn.neighbors import KNeighborsClassifier\n",
    "\n",
    "best_score=0\n",
    "\n",
    "for n_neighbors in [1, 2, 3, 4, 5, 6, 7, 8, 9, 10]:\n",
    "    knn=KNeighborsClassifier(n_neighbors=n_neighbors)\n",
    "    knn.fit(X_train_scale, y_train)\n",
    "    score=knn.score(X_validate_scale, y_validate)\n",
    "    if score > best_score:\n",
    "            best_score = score\n",
    "            best_parameters= {'n_neighbors': n_neighbors}\n",
    "            \n",
    "knn= KNeighborsClassifier(**best_parameters)\n",
    "knn.fit(X_trainval_scale, y_trainval)\n",
    "test_score=knn.score(X_test_scale, y_test)\n",
    "print(\"Best score on validation set: {:.2f}\".format(best_score))\n",
    "print(\"Best paramters: \", best_parameters)\n",
    "print(\"Test set score with best parameters: {:.2f}\".format(test_score))\n",
    "    "
   ]
  },
  {
   "cell_type": "code",
   "execution_count": 51,
   "metadata": {},
   "outputs": [
    {
     "name": "stdout",
     "output_type": "stream",
     "text": [
      "[[42302  2592]\n",
      " [ 7696  5337]]\n"
     ]
    }
   ],
   "source": [
    "##Confusion Matrix\n",
    "\n",
    "from sklearn.metrics import confusion_matrix\n",
    "\n",
    "pred_knn=knn.predict(X_test_scale)\n",
    "print(confusion_matrix(y_test, pred_knn))"
   ]
  },
  {
   "cell_type": "code",
   "execution_count": 52,
   "metadata": {},
   "outputs": [
    {
     "name": "stdout",
     "output_type": "stream",
     "text": [
      "              precision    recall  f1-score   support\n",
      "\n",
      "           0       0.85      0.94      0.89     44894\n",
      "           1       0.67      0.41      0.51     13033\n",
      "\n",
      "   micro avg       0.82      0.82      0.82     57927\n",
      "   macro avg       0.76      0.68      0.70     57927\n",
      "weighted avg       0.81      0.82      0.81     57927\n",
      "\n"
     ]
    }
   ],
   "source": [
    "##Classification Report\n",
    "\n",
    "from sklearn.metrics import classification_report\n",
    "\n",
    "\n",
    "print(classification_report(y_test, pred_knn))"
   ]
  },
  {
   "cell_type": "markdown",
   "metadata": {},
   "source": [
    "## Logistic Regression"
   ]
  },
  {
   "cell_type": "code",
   "execution_count": 53,
   "metadata": {},
   "outputs": [
    {
     "name": "stderr",
     "output_type": "stream",
     "text": [
      "C:\\Users\\neefi\\Anaconda3\\lib\\site-packages\\sklearn\\linear_model\\logistic.py:433: FutureWarning: Default solver will be changed to 'lbfgs' in 0.22. Specify a solver to silence this warning.\n",
      "  FutureWarning)\n",
      "C:\\Users\\neefi\\Anaconda3\\lib\\site-packages\\sklearn\\linear_model\\logistic.py:433: FutureWarning: Default solver will be changed to 'lbfgs' in 0.22. Specify a solver to silence this warning.\n",
      "  FutureWarning)\n",
      "C:\\Users\\neefi\\Anaconda3\\lib\\site-packages\\sklearn\\linear_model\\logistic.py:433: FutureWarning: Default solver will be changed to 'lbfgs' in 0.22. Specify a solver to silence this warning.\n",
      "  FutureWarning)\n",
      "C:\\Users\\neefi\\Anaconda3\\lib\\site-packages\\sklearn\\linear_model\\logistic.py:433: FutureWarning: Default solver will be changed to 'lbfgs' in 0.22. Specify a solver to silence this warning.\n",
      "  FutureWarning)\n",
      "C:\\Users\\neefi\\Anaconda3\\lib\\site-packages\\sklearn\\linear_model\\logistic.py:433: FutureWarning: Default solver will be changed to 'lbfgs' in 0.22. Specify a solver to silence this warning.\n",
      "  FutureWarning)\n",
      "C:\\Users\\neefi\\Anaconda3\\lib\\site-packages\\sklearn\\linear_model\\logistic.py:433: FutureWarning: Default solver will be changed to 'lbfgs' in 0.22. Specify a solver to silence this warning.\n",
      "  FutureWarning)\n",
      "C:\\Users\\neefi\\Anaconda3\\lib\\site-packages\\sklearn\\linear_model\\logistic.py:433: FutureWarning: Default solver will be changed to 'lbfgs' in 0.22. Specify a solver to silence this warning.\n",
      "  FutureWarning)\n"
     ]
    },
    {
     "name": "stdout",
     "output_type": "stream",
     "text": [
      "Best score on validation set: 0.83\n",
      "Best paramters:  {'C': 1}\n",
      "Test set score with best parameters: 0.83\n"
     ]
    }
   ],
   "source": [
    "##logistic regression\n",
    "\n",
    "from sklearn.linear_model import LogisticRegression\n",
    "\n",
    "best_score=0\n",
    "\n",
    "for C in[0.001, 0.01, 0.1, 1, 10, 100]:\n",
    "    clf=LogisticRegression(C=C)\n",
    "    clf.fit(X_train_scale, y_train)\n",
    "    score=clf.score(X_validate_scale, y_validate)\n",
    "    if score > best_score:\n",
    "            best_score = score\n",
    "            best_parameters= {'C': C}\n",
    "            \n",
    "clf= LogisticRegression(**best_parameters)\n",
    "clf.fit(X_trainval_scale, y_trainval)\n",
    "test_score=clf.score(X_test_scale, y_test)\n",
    "print(\"Best score on validation set: {:.2f}\".format(best_score))\n",
    "print(\"Best paramters: \", best_parameters)\n",
    "print(\"Test set score with best parameters: {:.2f}\".format(test_score))"
   ]
  },
  {
   "cell_type": "code",
   "execution_count": 54,
   "metadata": {},
   "outputs": [
    {
     "name": "stdout",
     "output_type": "stream",
     "text": [
      "[[42031  2863]\n",
      " [ 6932  6101]]\n"
     ]
    }
   ],
   "source": [
    "##Confusion Matrix\n",
    "\n",
    "from sklearn.metrics import confusion_matrix\n",
    "\n",
    "pred_clf=clf.predict(X_test_scale)\n",
    "print(confusion_matrix(y_test, pred_clf))"
   ]
  },
  {
   "cell_type": "code",
   "execution_count": 55,
   "metadata": {},
   "outputs": [
    {
     "name": "stdout",
     "output_type": "stream",
     "text": [
      "              precision    recall  f1-score   support\n",
      "\n",
      "           0       0.86      0.94      0.90     44894\n",
      "           1       0.68      0.47      0.55     13033\n",
      "\n",
      "   micro avg       0.83      0.83      0.83     57927\n",
      "   macro avg       0.77      0.70      0.73     57927\n",
      "weighted avg       0.82      0.83      0.82     57927\n",
      "\n"
     ]
    }
   ],
   "source": [
    "##Classification Report\n",
    "\n",
    "from sklearn.metrics import classification_report\n",
    "\n",
    "\n",
    "print(classification_report(y_test, pred_clf))"
   ]
  },
  {
   "cell_type": "markdown",
   "metadata": {},
   "source": [
    "## Bayes"
   ]
  },
  {
   "cell_type": "code",
   "execution_count": 56,
   "metadata": {},
   "outputs": [
    {
     "name": "stdout",
     "output_type": "stream",
     "text": [
      "Best score on validation set: 0.81\n",
      "Test set score with best parameters: 0.81\n"
     ]
    }
   ],
   "source": [
    "##Naive Bayes\n",
    "\n",
    "from sklearn.naive_bayes import GaussianNB\n",
    "\n",
    "\n",
    "bay= GaussianNB()\n",
    "bay.fit(X_train_scale, y_train)\n",
    "best_score=bay.score(X_validate_scale, y_validate)\n",
    "\n",
    "            \n",
    "bay.fit(X_trainval_scale, y_trainval)\n",
    "test_score=bay.score(X_test_scale, y_test)\n",
    "print(\"Best score on validation set: {:.2f}\".format(best_score))\n",
    "#print(\"Best paramters: \", best_parameters)\n",
    "print(\"Test set score with best parameters: {:.2f}\".format(test_score))"
   ]
  },
  {
   "cell_type": "code",
   "execution_count": 57,
   "metadata": {},
   "outputs": [
    {
     "name": "stdout",
     "output_type": "stream",
     "text": [
      "[[41666  3228]\n",
      " [ 7853  5180]]\n"
     ]
    }
   ],
   "source": [
    "##Confusion Matrix\n",
    "\n",
    "from sklearn.metrics import confusion_matrix\n",
    "\n",
    "pred_bay=bay.predict(X_test_scale)\n",
    "print(confusion_matrix(y_test, pred_bay))"
   ]
  },
  {
   "cell_type": "code",
   "execution_count": 58,
   "metadata": {},
   "outputs": [
    {
     "name": "stdout",
     "output_type": "stream",
     "text": [
      "              precision    recall  f1-score   support\n",
      "\n",
      "           0       0.84      0.93      0.88     44894\n",
      "           1       0.62      0.40      0.48     13033\n",
      "\n",
      "   micro avg       0.81      0.81      0.81     57927\n",
      "   macro avg       0.73      0.66      0.68     57927\n",
      "weighted avg       0.79      0.81      0.79     57927\n",
      "\n"
     ]
    }
   ],
   "source": [
    "##Classification Report\n",
    "\n",
    "from sklearn.metrics import classification_report\n",
    "\n",
    "\n",
    "print(classification_report(y_test, pred_bay))"
   ]
  },
  {
   "cell_type": "markdown",
   "metadata": {},
   "source": [
    "### Feature Selection\n",
    "RFE\n"
   ]
  },
  {
   "cell_type": "code",
   "execution_count": 43,
   "metadata": {
    "scrolled": true
   },
   "outputs": [
    {
     "name": "stderr",
     "output_type": "stream",
     "text": [
      "C:\\Users\\neefi\\Anaconda3\\lib\\site-packages\\sklearn\\linear_model\\logistic.py:433: FutureWarning: Default solver will be changed to 'lbfgs' in 0.22. Specify a solver to silence this warning.\n",
      "  FutureWarning)\n",
      "C:\\Users\\neefi\\Anaconda3\\lib\\site-packages\\sklearn\\linear_model\\logistic.py:433: FutureWarning: Default solver will be changed to 'lbfgs' in 0.22. Specify a solver to silence this warning.\n",
      "  FutureWarning)\n",
      "C:\\Users\\neefi\\Anaconda3\\lib\\site-packages\\sklearn\\linear_model\\logistic.py:433: FutureWarning: Default solver will be changed to 'lbfgs' in 0.22. Specify a solver to silence this warning.\n",
      "  FutureWarning)\n",
      "C:\\Users\\neefi\\Anaconda3\\lib\\site-packages\\sklearn\\linear_model\\logistic.py:433: FutureWarning: Default solver will be changed to 'lbfgs' in 0.22. Specify a solver to silence this warning.\n",
      "  FutureWarning)\n",
      "C:\\Users\\neefi\\Anaconda3\\lib\\site-packages\\sklearn\\linear_model\\logistic.py:433: FutureWarning: Default solver will be changed to 'lbfgs' in 0.22. Specify a solver to silence this warning.\n",
      "  FutureWarning)\n",
      "C:\\Users\\neefi\\Anaconda3\\lib\\site-packages\\sklearn\\linear_model\\logistic.py:433: FutureWarning: Default solver will be changed to 'lbfgs' in 0.22. Specify a solver to silence this warning.\n",
      "  FutureWarning)\n",
      "C:\\Users\\neefi\\Anaconda3\\lib\\site-packages\\sklearn\\linear_model\\logistic.py:433: FutureWarning: Default solver will be changed to 'lbfgs' in 0.22. Specify a solver to silence this warning.\n",
      "  FutureWarning)\n",
      "C:\\Users\\neefi\\Anaconda3\\lib\\site-packages\\sklearn\\linear_model\\logistic.py:433: FutureWarning: Default solver will be changed to 'lbfgs' in 0.22. Specify a solver to silence this warning.\n",
      "  FutureWarning)\n",
      "C:\\Users\\neefi\\Anaconda3\\lib\\site-packages\\sklearn\\linear_model\\logistic.py:433: FutureWarning: Default solver will be changed to 'lbfgs' in 0.22. Specify a solver to silence this warning.\n",
      "  FutureWarning)\n",
      "C:\\Users\\neefi\\Anaconda3\\lib\\site-packages\\sklearn\\linear_model\\logistic.py:433: FutureWarning: Default solver will be changed to 'lbfgs' in 0.22. Specify a solver to silence this warning.\n",
      "  FutureWarning)\n",
      "C:\\Users\\neefi\\Anaconda3\\lib\\site-packages\\sklearn\\linear_model\\logistic.py:433: FutureWarning: Default solver will be changed to 'lbfgs' in 0.22. Specify a solver to silence this warning.\n",
      "  FutureWarning)\n",
      "C:\\Users\\neefi\\Anaconda3\\lib\\site-packages\\sklearn\\linear_model\\logistic.py:433: FutureWarning: Default solver will be changed to 'lbfgs' in 0.22. Specify a solver to silence this warning.\n",
      "  FutureWarning)\n",
      "C:\\Users\\neefi\\Anaconda3\\lib\\site-packages\\sklearn\\linear_model\\logistic.py:433: FutureWarning: Default solver will be changed to 'lbfgs' in 0.22. Specify a solver to silence this warning.\n",
      "  FutureWarning)\n",
      "C:\\Users\\neefi\\Anaconda3\\lib\\site-packages\\sklearn\\linear_model\\logistic.py:433: FutureWarning: Default solver will be changed to 'lbfgs' in 0.22. Specify a solver to silence this warning.\n",
      "  FutureWarning)\n",
      "C:\\Users\\neefi\\Anaconda3\\lib\\site-packages\\sklearn\\linear_model\\logistic.py:433: FutureWarning: Default solver will be changed to 'lbfgs' in 0.22. Specify a solver to silence this warning.\n",
      "  FutureWarning)\n",
      "C:\\Users\\neefi\\Anaconda3\\lib\\site-packages\\sklearn\\linear_model\\logistic.py:433: FutureWarning: Default solver will be changed to 'lbfgs' in 0.22. Specify a solver to silence this warning.\n",
      "  FutureWarning)\n",
      "C:\\Users\\neefi\\Anaconda3\\lib\\site-packages\\sklearn\\linear_model\\logistic.py:433: FutureWarning: Default solver will be changed to 'lbfgs' in 0.22. Specify a solver to silence this warning.\n",
      "  FutureWarning)\n",
      "C:\\Users\\neefi\\Anaconda3\\lib\\site-packages\\sklearn\\linear_model\\logistic.py:433: FutureWarning: Default solver will be changed to 'lbfgs' in 0.22. Specify a solver to silence this warning.\n",
      "  FutureWarning)\n",
      "C:\\Users\\neefi\\Anaconda3\\lib\\site-packages\\sklearn\\linear_model\\logistic.py:433: FutureWarning: Default solver will be changed to 'lbfgs' in 0.22. Specify a solver to silence this warning.\n",
      "  FutureWarning)\n"
     ]
    },
    {
     "ename": "NameError",
     "evalue": "name 'rfe' is not defined",
     "output_type": "error",
     "traceback": [
      "\u001b[1;31m---------------------------------------------------------------------------\u001b[0m",
      "\u001b[1;31mNameError\u001b[0m                                 Traceback (most recent call last)",
      "\u001b[1;32m<ipython-input-43-6f3e813861a7>\u001b[0m in \u001b[0;36m<module>\u001b[1;34m\u001b[0m\n\u001b[0;32m      7\u001b[0m \u001b[0mselect\u001b[0m\u001b[1;33m.\u001b[0m\u001b[0mfit\u001b[0m\u001b[1;33m(\u001b[0m\u001b[0mX_train_scale\u001b[0m\u001b[1;33m,\u001b[0m \u001b[0my_train\u001b[0m\u001b[1;33m)\u001b[0m\u001b[1;33m\u001b[0m\u001b[1;33m\u001b[0m\u001b[0m\n\u001b[0;32m      8\u001b[0m \u001b[1;31m# summarize the selection of the attributes\u001b[0m\u001b[1;33m\u001b[0m\u001b[1;33m\u001b[0m\u001b[1;33m\u001b[0m\u001b[0m\n\u001b[1;32m----> 9\u001b[1;33m \u001b[0mprint\u001b[0m\u001b[1;33m(\u001b[0m\u001b[0mrfe\u001b[0m\u001b[1;33m.\u001b[0m\u001b[0msupport_\u001b[0m\u001b[1;33m)\u001b[0m\u001b[1;33m\u001b[0m\u001b[1;33m\u001b[0m\u001b[0m\n\u001b[0m\u001b[0;32m     10\u001b[0m \u001b[0mprint\u001b[0m\u001b[1;33m(\u001b[0m\u001b[0mrfe\u001b[0m\u001b[1;33m.\u001b[0m\u001b[0mranking_\u001b[0m\u001b[1;33m)\u001b[0m\u001b[1;33m\u001b[0m\u001b[1;33m\u001b[0m\u001b[0m\n",
      "\u001b[1;31mNameError\u001b[0m: name 'rfe' is not defined"
     ]
    }
   ],
   "source": [
    "from sklearn.feature_selection import RFE\n",
    "\n",
    "\n",
    "clf=LogisticRegression()\n",
    "# create the RFE model and select 10 attributes\n",
    "select = RFE(clf, 10)\n",
    "select.fit(X_train_scale, y_train)\n",
    "# summarize the selection of the attributes\n",
    "print(RFE.support_)\n",
    "print(RFE.ranking_)"
   ]
  },
  {
   "cell_type": "code",
   "execution_count": 44,
   "metadata": {},
   "outputs": [
    {
     "data": {
      "text/plain": [
       "([], <a list of 0 Text yticklabel objects>)"
      ]
     },
     "execution_count": 44,
     "metadata": {},
     "output_type": "execute_result"
    },
    {
     "data": {
      "image/png": "[encoded data removed]",
      "text/plain": [
       "<Figure size 1152x144 with 1 Axes>"
      ]
     },
     "metadata": {
      "needs_background": "light"
     },
     "output_type": "display_data"
    }
   ],
   "source": [
    "import matplotlib.pyplot as plt\n",
    "\n",
    "mask=select.get_support()\n",
    "plt.matshow(mask.reshape(1, -1), cmap='gray_r')\n",
    "plt.xlabel(\"Sample Index\")\n",
    "plt.yticks(())"
   ]
  },
  {
   "cell_type": "code",
   "execution_count": 45,
   "metadata": {},
   "outputs": [],
   "source": [
    "X_train_rfe=select.transform(X_train_scale)\n",
    "X_test_rfe=select.transform(X_test_scale)\n",
    "X_validate_rfe=select.transform(X_validate_scale)\n",
    "X_trainval_rfe=select.transform(X_trainval_scale)\n"
   ]
  },
  {
   "cell_type": "code",
   "execution_count": 46,
   "metadata": {},
   "outputs": [
    {
     "name": "stdout",
     "output_type": "stream",
     "text": [
      "X_train_RFE Shape: (173778, 10)\n"
     ]
    }
   ],
   "source": [
    "print(\"X_train_RFE Shape: {}\".format(X_train_rfe.shape))"
   ]
  },
  {
   "cell_type": "code",
   "execution_count": 47,
   "metadata": {
    "scrolled": true
   },
   "outputs": [
    {
     "name": "stderr",
     "output_type": "stream",
     "text": [
      "C:\\Users\\neefi\\Anaconda3\\lib\\site-packages\\sklearn\\linear_model\\logistic.py:433: FutureWarning: Default solver will be changed to 'lbfgs' in 0.22. Specify a solver to silence this warning.\n",
      "  FutureWarning)\n",
      "C:\\Users\\neefi\\Anaconda3\\lib\\site-packages\\sklearn\\linear_model\\logistic.py:433: FutureWarning: Default solver will be changed to 'lbfgs' in 0.22. Specify a solver to silence this warning.\n",
      "  FutureWarning)\n",
      "C:\\Users\\neefi\\Anaconda3\\lib\\site-packages\\sklearn\\linear_model\\logistic.py:433: FutureWarning: Default solver will be changed to 'lbfgs' in 0.22. Specify a solver to silence this warning.\n",
      "  FutureWarning)\n",
      "C:\\Users\\neefi\\Anaconda3\\lib\\site-packages\\sklearn\\linear_model\\logistic.py:433: FutureWarning: Default solver will be changed to 'lbfgs' in 0.22. Specify a solver to silence this warning.\n",
      "  FutureWarning)\n",
      "C:\\Users\\neefi\\Anaconda3\\lib\\site-packages\\sklearn\\linear_model\\logistic.py:433: FutureWarning: Default solver will be changed to 'lbfgs' in 0.22. Specify a solver to silence this warning.\n",
      "  FutureWarning)\n",
      "C:\\Users\\neefi\\Anaconda3\\lib\\site-packages\\sklearn\\linear_model\\logistic.py:433: FutureWarning: Default solver will be changed to 'lbfgs' in 0.22. Specify a solver to silence this warning.\n",
      "  FutureWarning)\n",
      "C:\\Users\\neefi\\Anaconda3\\lib\\site-packages\\sklearn\\linear_model\\logistic.py:433: FutureWarning: Default solver will be changed to 'lbfgs' in 0.22. Specify a solver to silence this warning.\n",
      "  FutureWarning)\n"
     ]
    },
    {
     "name": "stdout",
     "output_type": "stream",
     "text": [
      "Best score on validation set: 0.83\n",
      "Best paramters:  {'C': 1}\n",
      "Test set score with best parameters: 0.83\n"
     ]
    }
   ],
   "source": [
    "##logistic regression RFE\n",
    "\n",
    "from sklearn.linear_model import LogisticRegression\n",
    "\n",
    "best_score=0\n",
    "\n",
    "for C in[0.001, 0.01, 0.1, 1, 10, 100]:\n",
    "    clf=LogisticRegression(C=C)\n",
    "    clf.fit(X_train_rfe, y_train)\n",
    "    score=clf.score(X_validate_rfe, y_validate)\n",
    "    if score > best_score:\n",
    "            best_score = score\n",
    "            best_parameters= {'C': C}\n",
    "            \n",
    "clf= LogisticRegression(**best_parameters)\n",
    "clf.fit(X_trainval_rfe, y_trainval)\n",
    "test_score=clf.score(X_test_rfe, y_test)\n",
    "print(\"Best score on validation set: {:.2f}\".format(best_score))\n",
    "print(\"Best paramters: \", best_parameters)\n",
    "print(\"Test set score with best parameters: {:.2f}\".format(test_score))"
   ]
  },
  {
   "cell_type": "code",
   "execution_count": 48,
   "metadata": {},
   "outputs": [
    {
     "name": "stdout",
     "output_type": "stream",
     "text": [
      "[[42019  2875]\n",
      " [ 6938  6095]]\n"
     ]
    }
   ],
   "source": [
    "##Confusion Matrix\n",
    "\n",
    "from sklearn.metrics import confusion_matrix\n",
    "\n",
    "pred_clf=clf.predict(X_test_rfe)\n",
    "print(confusion_matrix(y_test, pred_clf))"
   ]
  },
  {
   "cell_type": "code",
   "execution_count": 49,
   "metadata": {},
   "outputs": [
    {
     "name": "stdout",
     "output_type": "stream",
     "text": [
      "              precision    recall  f1-score   support\n",
      "\n",
      "           0       0.86      0.94      0.90     44894\n",
      "           1       0.68      0.47      0.55     13033\n",
      "\n",
      "   micro avg       0.83      0.83      0.83     57927\n",
      "   macro avg       0.77      0.70      0.72     57927\n",
      "weighted avg       0.82      0.83      0.82     57927\n",
      "\n"
     ]
    }
   ],
   "source": [
    "##Classification Report\n",
    "\n",
    "from sklearn.metrics import classification_report\n",
    "\n",
    "\n",
    "print(classification_report(y_test, pred_clf))"
   ]
  },
  {
   "cell_type": "code",
   "execution_count": 50,
   "metadata": {},
   "outputs": [
    {
     "name": "stdout",
     "output_type": "stream",
     "text": [
      "Best score on validation set: 0.84\n",
      "Best paramters:  {'n_estimators': 1000, 'learning_rate': 0.05, 'max_depth': 5, 'gamma': 0, 'colsample_bytree': 1, 'subsample': 1, 'random_state': 1}\n",
      "Test set score with best parameters: 0.83\n"
     ]
    }
   ],
   "source": [
    "#XGBOOST\n",
    "\n",
    "import xgboost as xgb\n",
    "\n",
    "best_score=0\n",
    "\n",
    "for n_estimators in [100, 500, 1000]:\n",
    "    for learning_rate in [0.001, 0.01, 0.05, 0.5]:\n",
    "        for max_depth in [1, 3, 4, 5]:\n",
    "            for subsample in [0.5, 0.75, 1]:\n",
    "                for gamma in [0, 1, 5]:\n",
    "                    for colsample_bytree in [0.1, 0.5, 1,]:                 \n",
    "                        XGB2=xgb.XGBClassifier(n_estimators=n_estimators, learning_rate=learning_rate, max_depth=max_depth, gamma=gamma, colsample_bytree=colsample_bytree, subsample=subsample, random_state=1)\n",
    "                        XGB2.fit(X_train_rfe, y_train)\n",
    "                        score=XGB2.score(X_validate_rfe, y_validate)\n",
    "                        if score > best_score:            \n",
    "                            best_score = score            \n",
    "                            best_parameters= {'n_estimators': n_estimators, 'learning_rate': learning_rate, 'max_depth': max_depth, 'gamma': gamma, 'colsample_bytree': colsample_bytree, 'subsample': subsample, 'random_state': 1 }\n",
    "\n",
    "    \n",
    "             \n",
    "XGB2.fit(X_trainval_rfe, y_trainval)\n",
    "test_score=XGB2.score(X_test_rfe, y_test)\n",
    "print(\"Best score on validation set: {:.2f}\".format(best_score))\n",
    "print(\"Best paramters: \", best_parameters)\n",
    "print(\"Test set score with best parameters: {:.2f}\".format(test_score))"
   ]
  },
  {
   "cell_type": "code",
   "execution_count": 51,
   "metadata": {},
   "outputs": [
    {
     "name": "stdout",
     "output_type": "stream",
     "text": [
      "[[41906  2988]\n",
      " [ 6642  6391]]\n"
     ]
    }
   ],
   "source": [
    "##Confusion Matrix\n",
    "\n",
    "from sklearn.metrics import confusion_matrix\n",
    "\n",
    "pred_XGB2=XGB2.predict(X_test_rfe)\n",
    "print(confusion_matrix(y_test, pred_XGB2))"
   ]
  },
  {
   "cell_type": "code",
   "execution_count": 52,
   "metadata": {},
   "outputs": [
    {
     "name": "stdout",
     "output_type": "stream",
     "text": [
      "              precision    recall  f1-score   support\n",
      "\n",
      "           0       0.86      0.93      0.90     44894\n",
      "           1       0.68      0.49      0.57     13033\n",
      "\n",
      "   micro avg       0.83      0.83      0.83     57927\n",
      "   macro avg       0.77      0.71      0.73     57927\n",
      "weighted avg       0.82      0.83      0.82     57927\n",
      "\n"
     ]
    }
   ],
   "source": [
    "##Classification Report\n",
    "\n",
    "from sklearn.metrics import classification_report\n",
    "\n",
    "\n",
    "print(classification_report(y_test, pred_XGB2))"
   ]
  },
  {
   "cell_type": "markdown",
   "metadata": {},
   "source": [
    "### Feature Selection\n",
    "L1 reg"
   ]
  },
  {
   "cell_type": "code",
   "execution_count": 67,
   "metadata": {},
   "outputs": [
    {
     "name": "stdout",
     "output_type": "stream",
     "text": [
      "Best score on validation set: 0.83\n",
      "Best paramters:  {'C': 10}\n",
      "Test set score with best parameters: 0.83\n"
     ]
    }
   ],
   "source": [
    "##logistic l1 reg\n",
    "\n",
    "from sklearn.feature_selection import SelectFromModel\n",
    "\n",
    "\n",
    "from sklearn.linear_model import LogisticRegression\n",
    "\n",
    "best_score=0\n",
    "\n",
    "for C in[0.001, 0.01, 0.1, 1, 10, 100]:\n",
    "    clf_l1=LogisticRegression(C=C, penalty='l1', tol=0.01, solver='saga')\n",
    "    clf_l1.fit(X_train_scale, y_train)\n",
    "    score=clf_l1.score(X_validate_scale, y_validate)\n",
    "    if score > best_score:\n",
    "            best_score = score\n",
    "            best_parameters= {'C': C}\n",
    "            \n",
    "clf_l1= LogisticRegression(**best_parameters, penalty='l1', tol=0.01, solver='saga')\n",
    "clf_l1.fit(X_trainval_scale, y_trainval)\n",
    "test_score=clf_l1.score(X_test_scale, y_test)\n",
    "print(\"Best score on validation set: {:.2f}\".format(best_score))\n",
    "print(\"Best paramters: \", best_parameters)\n",
    "print(\"Test set score with best parameters: {:.2f}\".format(test_score))\n",
    "\n"
   ]
  },
  {
   "cell_type": "code",
   "execution_count": 68,
   "metadata": {},
   "outputs": [
    {
     "name": "stdout",
     "output_type": "stream",
     "text": [
      "[[ 7.04401661e+00 -2.12798568e-01 -9.68155221e-03  2.28281934e+00\n",
      "   5.87967298e-01  8.72059787e-01  3.60119414e-01  4.72599865e-01\n",
      "  -1.31423788e+00  5.65707979e-02 -3.16117918e+00 -1.16210231e+00\n",
      "  -1.15769134e+00 -7.78624087e-01 -1.15142832e+00 -1.16274249e+00\n",
      "  -1.17055807e+00 -3.40170001e-02 -3.99999613e-02 -6.14959978e-02\n",
      "   5.11311414e-02 -5.25095878e-03 -3.62526768e-02 -3.94889620e-02\n",
      "   2.03775380e-02 -1.50215411e-02 -8.96361874e-02 -3.56722946e-02]]\n"
     ]
    }
   ],
   "source": [
    "result=clf_l1.fit(X_trainval_scale, y_trainval)\n",
    "print(result.coef_)"
   ]
  },
  {
   "cell_type": "code",
   "execution_count": 69,
   "metadata": {},
   "outputs": [
    {
     "name": "stdout",
     "output_type": "stream",
     "text": [
      "[[42124  2770]\n",
      " [ 7009  6024]]\n"
     ]
    }
   ],
   "source": [
    "##Confusion Matrix\n",
    "\n",
    "from sklearn.metrics import confusion_matrix\n",
    "\n",
    "pred_clf=clf_l1.predict(X_test_scale)\n",
    "print(confusion_matrix(y_test, pred_clf))"
   ]
  }
 ],
 "metadata": {
  "kernelspec": {
   "display_name": "Python 3",
   "language": "python",
   "name": "python3"
  },
  "language_info": {
   "codemirror_mode": {
    "name": "ipython",
    "version": 3
   },
   "file_extension": ".py",
   "mimetype": "text/x-python",
   "name": "python",
   "nbconvert_exporter": "python",
   "pygments_lexer": "ipython3",
   "version": "3.7.3"
  }
 },
 "nbformat": 4,
 "nbformat_minor": 2
}
